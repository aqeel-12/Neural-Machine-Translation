{
  "cells": [
    {
      "cell_type": "markdown",
      "metadata": {
        "id": "OdoaiW7Nqyja"
      },
      "source": [
        "#Character Level Seq2Seq"
      ]
    },
    {
      "cell_type": "markdown",
      "source": [
        "##Import all necessary libraries"
      ],
      "metadata": {
        "id": "uciYGwqLm5BF"
      }
    },
    {
      "cell_type": "code",
      "execution_count": 59,
      "metadata": {
        "id": "fyXH3Ynjdz_O"
      },
      "outputs": [],
      "source": [
        "from tensorflow.keras.preprocessing.text import Tokenizer\n",
        "from tensorflow.keras.preprocessing.sequence import pad_sequences\n",
        "from keras.layers import Embedding\n",
        "from sklearn.model_selection import train_test_split\n",
        "from tensorflow import keras\n",
        "import numpy as np\n",
        "from tensorflow.keras.models import load_model\n",
        "from google.colab import drive\n",
        "from nltk.translate.bleu_score import corpus_bleu\n",
        "import re\n",
        "import nltk\n",
        "# drive.mount('/content/drive')"
      ]
    },
    {
      "cell_type": "code",
      "source": [
        "from google.colab import drive\n",
        "drive.mount('/content/drive')"
      ],
      "metadata": {
        "colab": {
          "base_uri": "https://localhost:8080/"
        },
        "id": "h-uiuDQ15bJL",
        "outputId": "f71219a8-b000-4177-f73d-a7469db40cfb"
      },
      "execution_count": 60,
      "outputs": [
        {
          "output_type": "stream",
          "name": "stdout",
          "text": [
            "Drive already mounted at /content/drive; to attempt to forcibly remount, call drive.mount(\"/content/drive\", force_remount=True).\n"
          ]
        }
      ]
    },
    {
      "cell_type": "markdown",
      "source": [
        "##Function to convert all sentences into lower case"
      ],
      "metadata": {
        "id": "nxLtDAl6m-FM"
      }
    },
    {
      "cell_type": "code",
      "source": [
        "def conv_lower_case(input_texts):\n",
        "  lower_case=[]\n",
        "  for sentence in input_texts:\n",
        "    lower_case.append(sentence.lower())\n",
        "  return lower_case"
      ],
      "metadata": {
        "id": "nFMa96Q3gVba"
      },
      "execution_count": 61,
      "outputs": []
    },
    {
      "cell_type": "markdown",
      "source": [
        "##Function to remove quotes"
      ],
      "metadata": {
        "id": "8wR-28EPnDrW"
      }
    },
    {
      "cell_type": "code",
      "source": [
        "def remove_quotes(input_texts):\n",
        "  remove_quotes=[]\n",
        "  for sentence in input_texts:\n",
        "    remove_quotes.append(re.sub(\"'\",\"\",sentence))\n",
        "  return remove_quotes"
      ],
      "metadata": {
        "id": "qkwvMYFxmfT6"
      },
      "execution_count": 62,
      "outputs": []
    },
    {
      "cell_type": "markdown",
      "source": [
        "##Merge all datasets "
      ],
      "metadata": {
        "id": "A9dwHySSnm9n"
      }
    },
    {
      "cell_type": "code",
      "source": [
        "# Vectorize the data.\n",
        "input_texts = []\n",
        "target_texts = []\n",
        "data_path = \"/content/drive/MyDrive/Colab Notebooks/NLP_Project/Bible/urd.txt\"\n",
        "num_samples=10000\n",
        "with open(data_path, \"r\", encoding=\"utf-8\") as f:\n",
        "    lines = f.read().split(\"\\n\")\n",
        "for line in lines[: min(num_samples, len(lines) - 1)]:\n",
        "    input_text, target_text, _ = line.split(\"\\t\")\n",
        "#     # We use \"tab\" as the \"start sequence\" character\n",
        "    input_texts.append(input_text)\n",
        "    target_texts.append(target_text)\n",
        "print(\"##################################################################\")\n",
        "with open('/content/drive/MyDrive/Colab Notebooks/NLP_Project/Bible/dev.ur', \"r\", encoding=\"utf-8\") as f:\n",
        "    lines_urdu = f.read().split(\"\\n\")\n",
        "with open('/content/drive/MyDrive/Colab Notebooks/NLP_Project/Bible/dev.en', \"r\", encoding=\"utf-8\") as f:\n",
        "    lines_eng = f.read().split(\"\\n\")\n",
        "\n",
        "for each in lines_urdu:\n",
        "   target_texts.append(each)\n",
        "\n",
        "for each in lines_eng:\n",
        "  input_texts.append(each)\n",
        "#########################Bible Data############################################\n",
        "with open('/content/drive/MyDrive/Colab Notebooks/NLP_Project/Bible/train.ur', \"r\", encoding=\"utf-8\") as f:\n",
        "    lines_urdu = f.read().split(\"\\n\")\n",
        "with open('/content/drive/MyDrive/Colab Notebooks/NLP_Project/Bible/train.en', \"r\", encoding=\"utf-8\") as f:\n",
        "    lines_eng = f.read().split(\"\\n\")\n",
        "    # print(lines_eng)\n",
        "for each in lines_urdu:\n",
        "   target_texts.append(each)\n",
        "\n",
        "for each in lines_eng:\n",
        "  input_texts.append(each)\n",
        "\n",
        "################Quran Data##########################\n",
        "with open('/content/drive/MyDrive/Colab Notebooks/NLP_Project/Quran/train.ur', \"r\", encoding=\"utf-8\") as f:\n",
        "    lines_urdu = f.read().split(\"\\n\")\n",
        "    # print(len(lines))\n",
        "with open('/content/drive/MyDrive/Colab Notebooks/NLP_Project/Quran/train.en', \"r\", encoding=\"utf-8\") as f:\n",
        "    lines_eng = f.read().split(\"\\n\")\n",
        "for each in lines_urdu:\n",
        "   target_texts.append(each)\n",
        "\n",
        "for each in lines_eng:\n",
        "  input_texts.append(each)\n",
        "\n",
        "###########################Quran Data#########################################\n",
        "with open('/content/drive/MyDrive/Colab Notebooks/NLP_Project/Quran/dev.ur', \"r\", encoding=\"utf-8\") as f:\n",
        "    lines_urdu = f.read().split(\"\\n\")\n",
        "\n",
        "with open('/content/drive/MyDrive/Colab Notebooks/NLP_Project/Quran/dev.en', \"r\", encoding=\"utf-8\") as f:\n",
        "    lines_eng = f.read().split(\"\\n\")\n",
        "\n",
        "for each in lines_urdu:\n",
        "   target_texts.append(each)\n",
        "\n",
        "for each in lines_eng:\n",
        "  input_texts.append(each)\n",
        "\n",
        "#####################################################################"
      ],
      "metadata": {
        "colab": {
          "base_uri": "https://localhost:8080/"
        },
        "id": "uM-qdm9Ywaa_",
        "outputId": "1434fdd9-708c-4e29-b0de-d24a620931b4"
      },
      "execution_count": 91,
      "outputs": [
        {
          "output_type": "stream",
          "name": "stdout",
          "text": [
            "##################################################################\n"
          ]
        }
      ]
    },
    {
      "cell_type": "code",
      "source": [
        "input_texts=conv_lower_case(input_texts)\n",
        "input_texts=remove_quotes(input_texts)\n",
        "target_texts=remove_quotes(target_texts)"
      ],
      "metadata": {
        "id": "4eOxqnOM0YWP"
      },
      "execution_count": 92,
      "outputs": []
    },
    {
      "cell_type": "markdown",
      "source": [
        "##Maintain character sets for both source and target data "
      ],
      "metadata": {
        "id": "ABDv20f8qN9W"
      }
    },
    {
      "cell_type": "code",
      "execution_count": 93,
      "metadata": {
        "id": "fRbLo5C2yeyJ"
      },
      "outputs": [],
      "source": [
        "def inp_out_characters(source_sentences,target_sentences):\n",
        "  input_characters = set()\n",
        "  target_characters = set()\n",
        "  target_texts_updated=[]\n",
        "  for each in input_texts:\n",
        "    for char in each:\n",
        "        if char not in input_characters:\n",
        "            input_characters.add(char)\n",
        "  for each in target_texts:\n",
        "    val= \"\\n\" + each + \"\\t\"\n",
        "    target_texts_updated.append(val)\n",
        "    for char in val:\n",
        "        if char not in target_characters:\n",
        "            target_characters.add(char)\n",
        "  input_characters = sorted(list(input_characters))\n",
        "  target_characters = sorted(list(target_characters))\n",
        "  return input_characters,target_characters,target_texts_updated"
      ]
    },
    {
      "cell_type": "code",
      "execution_count": 94,
      "metadata": {
        "id": "dldrMsdQ4dMj"
      },
      "outputs": [],
      "source": [
        "def data_stats(input_characters,target_characters,source_sentences,target_sentences): \n",
        "  num_encoder_tokens = len(input_characters) \n",
        "  num_decoder_tokens = len(target_characters)\n",
        "  max_encoder_seq_length = max([len(txt) for txt in source_sentences])\n",
        "  max_decoder_seq_length = max([len(txt) for txt in target_sentences])\n",
        "  return num_encoder_tokens,num_decoder_tokens,max_encoder_seq_length,max_decoder_seq_length"
      ]
    },
    {
      "cell_type": "code",
      "execution_count": 95,
      "metadata": {
        "id": "pFhrFnEf4fcu"
      },
      "outputs": [],
      "source": [
        "input_characters,target_characters,target_texts=inp_out_characters(input_texts,target_texts)\n",
        "input_token_index = dict([(char, i) for i, char in enumerate(input_characters)])\n",
        "target_token_index = dict([(char, i) for i, char in enumerate(target_characters)])"
      ]
    },
    {
      "cell_type": "code",
      "execution_count": 96,
      "metadata": {
        "colab": {
          "base_uri": "https://localhost:8080/"
        },
        "id": "AINoxr1k7Oux",
        "outputId": "cac66a7d-db89-4f30-a2e7-931aaa11f5af"
      },
      "outputs": [
        {
          "output_type": "stream",
          "name": "stdout",
          "text": [
            "Number of samples: 15061\n",
            "Number of unique input tokens: 53\n",
            "Number of unique output tokens: 98\n",
            "Max sequence length for inputs: 1203\n",
            "Max sequence length for outputs: 986\n"
          ]
        }
      ],
      "source": [
        "num_encoder_tokens,num_decoder_tokens,max_encoder_seq_length,max_decoder_seq_length=data_stats(input_characters,target_characters,input_texts,target_texts)\n",
        "print(\"Number of samples:\", len(input_texts))\n",
        "print(\"Number of unique input tokens:\", num_encoder_tokens)\n",
        "print(\"Number of unique output tokens:\", num_decoder_tokens)\n",
        "print(\"Max sequence length for inputs:\", max_encoder_seq_length)\n",
        "print(\"Max sequence length for outputs:\", max_decoder_seq_length)"
      ]
    },
    {
      "cell_type": "markdown",
      "source": [
        "##Data Split into Training & Validation"
      ],
      "metadata": {
        "id": "QXYoLePCqZi2"
      }
    },
    {
      "cell_type": "code",
      "execution_count": 97,
      "metadata": {
        "id": "Tug5J2RO7RnH"
      },
      "outputs": [],
      "source": [
        "X_train, X_test, y_train, y_test = train_test_split(input_texts, target_texts, test_size=0.1, random_state=42)"
      ]
    },
    {
      "cell_type": "markdown",
      "source": [
        "##To avoid memory crash issues a generaor function is created for encoding for source and target characters"
      ],
      "metadata": {
        "id": "8dnI5DBcqiBu"
      }
    },
    {
      "cell_type": "code",
      "execution_count": 70,
      "metadata": {
        "id": "93mH5mCrEsYA"
      },
      "outputs": [],
      "source": [
        "def generate_batch(X = X_train, y = y_train, batch_size = 128):\n",
        "    ''' Generate a batch of data '''\n",
        "    while True:\n",
        "        for j in range(0, len(X), batch_size):\n",
        "            encoder_input_data = np.zeros((batch_size, max_encoder_seq_length),dtype='float32')\n",
        "            decoder_input_data = np.zeros((batch_size, max_encoder_seq_length),dtype='float32')\n",
        "            decoder_target_data = np.zeros((batch_size, max_encoder_seq_length, num_decoder_tokens),dtype='float32')\n",
        "            for i, (input_text, target_text) in enumerate(zip(X[j:j+batch_size], y[j:j+batch_size])):\n",
        "                for t, word in enumerate(input_text):\n",
        "                    #print(\"Input Words\",word)\n",
        "                    encoder_input_data[i, t] = input_token_index[word] # encoder input seq\n",
        "                for t, word in enumerate(target_text):\n",
        "                    #print(\"Target words\",word)\n",
        "                    if t<len(target_text)-1:\n",
        "                        decoder_input_data[i, t] = target_token_index[word] # decoder input seq\n",
        "                    if t>0:\n",
        "                        # decoder target sequence (one hot encoded)\n",
        "                        # does not include the START_ token\n",
        "                        # Offset by one timestep\n",
        "                        decoder_target_data[i, t - 1, target_token_index[word]] = 1.\n",
        "            yield([encoder_input_data, decoder_input_data], decoder_target_data)"
      ]
    },
    {
      "cell_type": "markdown",
      "source": [
        "##Encoder Architecture"
      ],
      "metadata": {
        "id": "Wi5axMs8rH-i"
      }
    },
    {
      "cell_type": "code",
      "execution_count": 71,
      "metadata": {
        "id": "e5ShmDqmG0qD"
      },
      "outputs": [],
      "source": [
        "# Encoder\n",
        "latent_dim = 256\n",
        "encoder_inputs = keras.Input(shape=(None,))\n",
        "enc_emb =  Embedding(num_encoder_tokens, latent_dim, mask_zero = True)(encoder_inputs)\n",
        "encoder_lstm = keras.layers.LSTM(latent_dim, return_state=True)\n",
        "encoder_outputs, state_h, state_c = encoder_lstm(enc_emb)\n",
        "# We discard `encoder_outputs` and only keep the states.\n",
        "encoder_states = [state_h, state_c]"
      ]
    },
    {
      "cell_type": "markdown",
      "source": [
        "##Encoder states supplied as decoder initial state"
      ],
      "metadata": {
        "id": "3ArvKwf7rN_m"
      }
    },
    {
      "cell_type": "code",
      "execution_count": 72,
      "metadata": {
        "id": "v-LpGZnuG2uL"
      },
      "outputs": [],
      "source": [
        "# Set up the decoder, using `encoder_states` as initial state.\n",
        "decoder_inputs = keras.Input(shape=(None,))\n",
        "dec_emb_layer = Embedding(num_decoder_tokens, latent_dim, mask_zero = True)\n",
        "dec_emb = dec_emb_layer(decoder_inputs)\n",
        "# We set up our decoder to return full output sequences,\n",
        "# and to return internal states as well. We don't use the\n",
        "# return states in the training model, but we will use them in inference.\n",
        "decoder_lstm = keras.layers.LSTM(latent_dim, return_sequences=True, return_state=True)\n",
        "decoder_outputs, _, _ = decoder_lstm(dec_emb,\n",
        "                                     initial_state=encoder_states)\n",
        "decoder_dense = keras.layers.Dense(num_decoder_tokens, activation='softmax')\n",
        "decoder_outputs = decoder_dense(decoder_outputs)\n",
        "\n",
        "# Define the model that will turn\n",
        "# `encoder_input_data` & `decoder_input_data` into `decoder_target_data`\n",
        "model = keras.Model([encoder_inputs, decoder_inputs], decoder_outputs)"
      ]
    },
    {
      "cell_type": "code",
      "execution_count": null,
      "metadata": {
        "id": "yio3K4acAx1p"
      },
      "outputs": [],
      "source": [
        "model.compile(optimizer='rmsprop', loss='categorical_crossentropy', metrics=[\"accuracy\"])"
      ]
    },
    {
      "cell_type": "code",
      "execution_count": null,
      "metadata": {
        "colab": {
          "base_uri": "https://localhost:8080/"
        },
        "id": "HHPqdmKxA08R",
        "outputId": "05c52c21-9671-4035-83d8-437026185cb7"
      },
      "outputs": [
        {
          "output_type": "stream",
          "name": "stdout",
          "text": [
            "Model: \"model\"\n",
            "__________________________________________________________________________________________________\n",
            " Layer (type)                   Output Shape         Param #     Connected to                     \n",
            "==================================================================================================\n",
            " input_1 (InputLayer)           [(None, None)]       0           []                               \n",
            "                                                                                                  \n",
            " input_2 (InputLayer)           [(None, None)]       0           []                               \n",
            "                                                                                                  \n",
            " embedding (Embedding)          (None, None, 256)    13568       ['input_1[0][0]']                \n",
            "                                                                                                  \n",
            " embedding_1 (Embedding)        (None, None, 256)    25088       ['input_2[0][0]']                \n",
            "                                                                                                  \n",
            " lstm (LSTM)                    [(None, 256),        525312      ['embedding[0][0]']              \n",
            "                                 (None, 256),                                                     \n",
            "                                 (None, 256)]                                                     \n",
            "                                                                                                  \n",
            " lstm_1 (LSTM)                  [(None, None, 256),  525312      ['embedding_1[0][0]',            \n",
            "                                 (None, 256),                     'lstm[0][1]',                   \n",
            "                                 (None, 256)]                     'lstm[0][2]']                   \n",
            "                                                                                                  \n",
            " dense (Dense)                  (None, None, 98)     25186       ['lstm_1[0][0]']                 \n",
            "                                                                                                  \n",
            "==================================================================================================\n",
            "Total params: 1,114,466\n",
            "Trainable params: 1,114,466\n",
            "Non-trainable params: 0\n",
            "__________________________________________________________________________________________________\n"
          ]
        }
      ],
      "source": [
        "model.summary()"
      ]
    },
    {
      "cell_type": "code",
      "execution_count": null,
      "metadata": {
        "id": "NCMUKRYhG6Ag"
      },
      "outputs": [],
      "source": [
        "train_samples = len(X_train)\n",
        "val_samples = len(X_test)\n",
        "batch_size = 128\n",
        "epochs = 30"
      ]
    },
    {
      "cell_type": "markdown",
      "source": [
        "##Generator function for model fitting to fetch one record at a time to avoid memory crash issues"
      ],
      "metadata": {
        "id": "twGFWl0vrYr1"
      }
    },
    {
      "cell_type": "code",
      "source": [
        "model.fit_generator(generator = generate_batch(X_train, y_train, batch_size = batch_size),\n",
        "                    steps_per_epoch = train_samples//batch_size,\n",
        "                    epochs=epochs, \n",
        "                    validation_data = generate_batch(X_test, y_test, batch_size = batch_size),\n",
        "                    validation_steps = val_samples//batch_size)"
      ],
      "metadata": {
        "id": "3PpA5Y8KjZAM",
        "colab": {
          "base_uri": "https://localhost:8080/"
        },
        "outputId": "6cd10b93-02a2-4184-b8b6-0fe3d617ffba"
      },
      "execution_count": null,
      "outputs": [
        {
          "output_type": "stream",
          "name": "stderr",
          "text": [
            "<ipython-input-18-60427f4dd8dc>:1: UserWarning: `Model.fit_generator` is deprecated and will be removed in a future version. Please use `Model.fit`, which supports generators.\n",
            "  model.fit_generator(generator = generate_batch(X_train, y_train, batch_size = batch_size),\n"
          ]
        },
        {
          "output_type": "stream",
          "name": "stdout",
          "text": [
            "Epoch 1/30\n",
            "105/105 [==============================] - 350s 3s/step - loss: 0.2745 - accuracy: 0.2919 - val_loss: 0.2345 - val_accuracy: 0.3566\n",
            "Epoch 2/30\n",
            "105/105 [==============================] - 324s 3s/step - loss: 0.2246 - accuracy: 0.3829 - val_loss: 0.2109 - val_accuracy: 0.4128\n",
            "Epoch 3/30\n",
            "105/105 [==============================] - 327s 3s/step - loss: 0.2049 - accuracy: 0.4318 - val_loss: 0.1942 - val_accuracy: 0.4560\n",
            "Epoch 4/30\n",
            "105/105 [==============================] - 327s 3s/step - loss: 0.1896 - accuracy: 0.4701 - val_loss: 0.1820 - val_accuracy: 0.4838\n",
            "Epoch 5/30\n",
            "105/105 [==============================] - 330s 3s/step - loss: 0.1778 - accuracy: 0.5000 - val_loss: 0.1717 - val_accuracy: 0.5144\n",
            "Epoch 6/30\n",
            "105/105 [==============================] - 326s 3s/step - loss: 0.1684 - accuracy: 0.5230 - val_loss: 0.1632 - val_accuracy: 0.5329\n",
            "Epoch 7/30\n",
            "105/105 [==============================] - 328s 3s/step - loss: 0.1614 - accuracy: 0.5411 - val_loss: 0.1573 - val_accuracy: 0.5506\n",
            "Epoch 8/30\n",
            "105/105 [==============================] - 325s 3s/step - loss: 0.1557 - accuracy: 0.5563 - val_loss: 0.1525 - val_accuracy: 0.5619\n",
            "Epoch 9/30\n",
            "105/105 [==============================] - 325s 3s/step - loss: 0.1509 - accuracy: 0.5687 - val_loss: 0.1475 - val_accuracy: 0.5755\n",
            "Epoch 10/30\n",
            "105/105 [==============================] - 324s 3s/step - loss: 0.1471 - accuracy: 0.5787 - val_loss: 0.1442 - val_accuracy: 0.5825\n",
            "Epoch 11/30\n",
            "105/105 [==============================] - 324s 3s/step - loss: 0.1439 - accuracy: 0.5872 - val_loss: 0.1417 - val_accuracy: 0.5899\n",
            "Epoch 12/30\n",
            "105/105 [==============================] - 327s 3s/step - loss: 0.1412 - accuracy: 0.5943 - val_loss: 0.1399 - val_accuracy: 0.5936\n",
            "Epoch 13/30\n",
            "105/105 [==============================] - 324s 3s/step - loss: 0.1387 - accuracy: 0.6003 - val_loss: 0.1377 - val_accuracy: 0.5997\n",
            "Epoch 14/30\n",
            "105/105 [==============================] - 320s 3s/step - loss: 0.1366 - accuracy: 0.6055 - val_loss: 0.1353 - val_accuracy: 0.6070\n",
            "Epoch 15/30\n",
            "105/105 [==============================] - 325s 3s/step - loss: 0.1348 - accuracy: 0.6100 - val_loss: 0.1341 - val_accuracy: 0.6092\n",
            "Epoch 16/30\n",
            "105/105 [==============================] - 328s 3s/step - loss: 0.1329 - accuracy: 0.6144 - val_loss: 0.1324 - val_accuracy: 0.6140\n",
            "Epoch 17/30\n",
            "105/105 [==============================] - 326s 3s/step - loss: 0.1316 - accuracy: 0.6181 - val_loss: 0.1313 - val_accuracy: 0.6173\n",
            "Epoch 18/30\n",
            "105/105 [==============================] - 322s 3s/step - loss: 0.1302 - accuracy: 0.6221 - val_loss: 0.1302 - val_accuracy: 0.6181\n",
            "Epoch 19/30\n",
            "105/105 [==============================] - 327s 3s/step - loss: 0.1289 - accuracy: 0.6250 - val_loss: 0.1300 - val_accuracy: 0.6198\n",
            "Epoch 20/30\n",
            "105/105 [==============================] - 325s 3s/step - loss: 0.1276 - accuracy: 0.6281 - val_loss: 0.1292 - val_accuracy: 0.6201\n",
            "Epoch 21/30\n",
            "105/105 [==============================] - 322s 3s/step - loss: 0.1264 - accuracy: 0.6308 - val_loss: 0.1278 - val_accuracy: 0.6252\n",
            "Epoch 22/30\n",
            "105/105 [==============================] - 319s 3s/step - loss: 0.1255 - accuracy: 0.6332 - val_loss: 0.1262 - val_accuracy: 0.6296\n",
            "Epoch 23/30\n",
            "105/105 [==============================] - 323s 3s/step - loss: 0.1246 - accuracy: 0.6356 - val_loss: 0.1259 - val_accuracy: 0.6311\n",
            "Epoch 24/30\n",
            "105/105 [==============================] - 320s 3s/step - loss: 0.1237 - accuracy: 0.6381 - val_loss: 0.1254 - val_accuracy: 0.6318\n",
            "Epoch 25/30\n",
            "105/105 [==============================] - 321s 3s/step - loss: 0.1229 - accuracy: 0.6403 - val_loss: 0.1246 - val_accuracy: 0.6344\n",
            "Epoch 26/30\n",
            "105/105 [==============================] - 324s 3s/step - loss: 0.1221 - accuracy: 0.6424 - val_loss: 0.1242 - val_accuracy: 0.6348\n",
            "Epoch 27/30\n",
            "105/105 [==============================] - 321s 3s/step - loss: 0.1212 - accuracy: 0.6445 - val_loss: 0.1241 - val_accuracy: 0.6349\n",
            "Epoch 28/30\n",
            "105/105 [==============================] - 321s 3s/step - loss: 0.1204 - accuracy: 0.6465 - val_loss: 0.1231 - val_accuracy: 0.6387\n",
            "Epoch 29/30\n",
            "105/105 [==============================] - 323s 3s/step - loss: 0.1197 - accuracy: 0.6483 - val_loss: 0.1226 - val_accuracy: 0.6386\n",
            "Epoch 30/30\n",
            "105/105 [==============================] - 324s 3s/step - loss: 0.1191 - accuracy: 0.6499 - val_loss: 0.1219 - val_accuracy: 0.6417\n"
          ]
        },
        {
          "output_type": "execute_result",
          "data": {
            "text/plain": [
              "<keras.callbacks.History at 0x7f2ab020c520>"
            ]
          },
          "metadata": {},
          "execution_count": 18
        }
      ]
    },
    {
      "cell_type": "code",
      "source": [
        "model.save_weights('/content/drive/MyDrive/Colab Notebooks/NLP_Project/char_level_model.h5')"
      ],
      "metadata": {
        "id": "haFEDItvKP3n"
      },
      "execution_count": null,
      "outputs": []
    },
    {
      "cell_type": "code",
      "source": [
        "model.load_weights('/content/drive/MyDrive/Colab Notebooks/NLP_Project/char_level_model.h5')"
      ],
      "metadata": {
        "id": "62vvc8vGK9p-"
      },
      "execution_count": 73,
      "outputs": []
    },
    {
      "cell_type": "markdown",
      "source": [
        "##Decoder architecture"
      ],
      "metadata": {
        "id": "FZ8AgHwyrlR-"
      }
    },
    {
      "cell_type": "code",
      "execution_count": 74,
      "metadata": {
        "id": "wY0yaH8hG9fF"
      },
      "outputs": [],
      "source": [
        "encoder_model = keras.Model(encoder_inputs, encoder_states)\n",
        "\n",
        "#decoder_inputs = model.input[1]  # input_2\n",
        "decoder_state_input_h = keras.Input(shape=(latent_dim,))\n",
        "decoder_state_input_c = keras.Input(shape=(latent_dim,))\n",
        "decoder_states_inputs = [decoder_state_input_h, decoder_state_input_c]\n",
        "dec_emb2=dec_emb_layer(decoder_inputs)\n",
        "#decoder_lstm = model.layers[3]\n",
        "\n",
        "decoder_outputs2, state_h_dec, state_c_dec = decoder_lstm(dec_emb2, initial_state=decoder_states_inputs)\n",
        "decoder_states2 = [state_h_dec, state_c_dec]\n",
        "#decoder_dense = model.layers[4]\n",
        "decoder_outputs2 = decoder_dense(decoder_outputs2)\n",
        "\n",
        "decoder_model = keras.Model(\n",
        "    [decoder_inputs] + decoder_states_inputs, [decoder_outputs2] + decoder_states2\n",
        ")\n"
      ]
    },
    {
      "cell_type": "code",
      "execution_count": 75,
      "metadata": {
        "id": "CtSH9rdSJ-dE"
      },
      "outputs": [],
      "source": [
        "# Reverse-lookup token index to decode sequences back to\n",
        "# something readable.\n",
        "reverse_input_char_index = dict((i, char) for char, i in input_token_index.items())\n",
        "reverse_target_char_index = dict((i, char) for char, i in target_token_index.items())"
      ]
    },
    {
      "cell_type": "markdown",
      "source": [
        "##Function to decode/translate the input seq"
      ],
      "metadata": {
        "id": "hS9cE8KXrp2L"
      }
    },
    {
      "cell_type": "code",
      "execution_count": 76,
      "metadata": {
        "id": "2kEJl5vGKAS7"
      },
      "outputs": [],
      "source": [
        "def decode_sequence(input_seq):\n",
        "    # Encode the input as state vectors.\n",
        "    states_value = encoder_model.predict(input_seq,verbose=0)\n",
        "    #print(\"state value predictions: \",states_value)\n",
        "    # Generate empty target sequence of length 1.\n",
        "    target_seq = np.zeros((1, 1))\n",
        "    # Populate the first character of target sequence with the start character.\n",
        "    target_seq[0, 0]= target_token_index['\\t']\n",
        "\n",
        "    # Sampling loop for a batch of sequences\n",
        "    # (to simplify, here we assume a batch of size 1).\n",
        "    stop_condition = False\n",
        "    decoded_sentence = \"\"\n",
        "    while not stop_condition:\n",
        "        output_tokens, h, c = decoder_model.predict([target_seq] + states_value,verbose=0)\n",
        "\n",
        "        # Sample a token\n",
        "        sampled_token_index = np.argmax(output_tokens[0, -1, :])\n",
        "        sampled_char = reverse_target_char_index[sampled_token_index]\n",
        "        decoded_sentence += sampled_char\n",
        "\n",
        "        # Exit condition: either hit max length\n",
        "        # or find stop character.\n",
        "        if sampled_char == \"\\n\" or len(decoded_sentence) > 100:\n",
        "            stop_condition = True\n",
        "            #print(\"Inside break cond\")\n",
        "\n",
        "        # Update the target sequence (of length 1).\n",
        "        target_seq = np.zeros((1, 1))\n",
        "        target_seq[0, 0] =sampled_token_index\n",
        "\n",
        "        # Update states\n",
        "        states_value = [h, c]\n",
        "    return decoded_sentence"
      ]
    },
    {
      "cell_type": "code",
      "execution_count": 77,
      "metadata": {
        "id": "iF85SMGZKCXk"
      },
      "outputs": [],
      "source": [
        "train_gen=generate_batch(X_train,y_train,batch_size=1)\n",
        "k=-1"
      ]
    },
    {
      "cell_type": "code",
      "execution_count": 78,
      "metadata": {
        "colab": {
          "base_uri": "https://localhost:8080/",
          "height": 35
        },
        "id": "pp2ZwvFqKEqC",
        "outputId": "93e434ca-58c1-4ef0-ab34-34d43851e560"
      },
      "outputs": [
        {
          "output_type": "execute_result",
          "data": {
            "text/plain": [
              "'abraham saith unto him , they have moses and the prophets ; let them hear them .'"
            ],
            "application/vnd.google.colaboratory.intrinsic+json": {
              "type": "string"
            }
          },
          "metadata": {},
          "execution_count": 78
        }
      ],
      "source": [
        "X_train[0]"
      ]
    },
    {
      "cell_type": "code",
      "execution_count": 79,
      "metadata": {
        "colab": {
          "base_uri": "https://localhost:8080/",
          "height": 35
        },
        "id": "Buf1mJ1eKGiH",
        "outputId": "e60836a7-f61b-4a3d-fb87-8a95c596a3ca"
      },
      "outputs": [
        {
          "output_type": "execute_result",
          "data": {
            "text/plain": [
              "'\\nابرہام نے اس سے کہا ان کے پاس موسٰی اور انبیا تو ہیں ۔ ان کی سنیں ۔\\t'"
            ],
            "application/vnd.google.colaboratory.intrinsic+json": {
              "type": "string"
            }
          },
          "metadata": {},
          "execution_count": 79
        }
      ],
      "source": [
        "y_train[0]"
      ]
    },
    {
      "cell_type": "code",
      "execution_count": 80,
      "metadata": {
        "colab": {
          "base_uri": "https://localhost:8080/"
        },
        "id": "beA3ei0uKIK6",
        "outputId": "6114d00a-08e0-413d-d146-33892bba78a5"
      },
      "outputs": [
        {
          "output_type": "stream",
          "name": "stdout",
          "text": [
            "0\n",
            "[[25. 26. 42. ...  0.  0.  0.]]\n",
            "(1203,)\n",
            "Input Source sentence: ['abraham saith unto him , they have moses and the prophets ; let them hear them .']\n",
            "Actual Target Translation: ['\\nابرہام نے اس سے کہا ان کے پاس موسٰی اور انبیا تو ہیں ۔ ان کی سنیں ۔\\t']\n",
            "Predicted Target Translation: جھے کہ اس کے ساتھ اس کے ساتھ ایسا ہؤا کہ اس کے ساتھ اس کی بات کی بات کی بات کرتے ہو ۔\tجار ۔\tجھ نہ کر\n"
          ]
        }
      ],
      "source": [
        "k+=1\n",
        "print(k)\n",
        "(input_seq,actual_output),_=next(train_gen)\n",
        "print(input_seq)\n",
        "decoded_sentence=decode_sequence(input_seq)\n",
        "print(input_seq[0].shape)\n",
        "print('Input Source sentence:', X_train[k:k+1])\n",
        "print('Actual Target Translation:', y_train[k:k+1])\n",
        "print('Predicted Target Translation:', decoded_sentence)"
      ]
    },
    {
      "cell_type": "markdown",
      "source": [
        "##Testing"
      ],
      "metadata": {
        "id": "tmJ6JXmnrwEO"
      }
    },
    {
      "cell_type": "code",
      "execution_count": null,
      "metadata": {
        "id": "zjPrT1jbKLk4"
      },
      "outputs": [],
      "source": [
        "def anything_goes_translation(src_sentence,max_encoder_seq_length):\n",
        "  encoder_input_data = np.zeros((1, max_encoder_seq_length), dtype='float32')\n",
        "  for i,input_text in enumerate(src_sentence):\n",
        "    for t, word in enumerate(input_text):\n",
        "      encoder_input_data[i, t] = input_token_index[word] # encoder input seg\n",
        "  decoded_sentence=decode_sequence(encoder_input_data)\n",
        "  return decoded_sentence"
      ]
    },
    {
      "cell_type": "code",
      "source": [
        "def test_data():\n",
        "  test_source = []\n",
        "  test_target = []\n",
        "  with open('/content/drive/MyDrive/Colab Notebooks/NLP_Project/Bible/test.ur', \"r\", encoding=\"utf-8\") as f:\n",
        "      lines_urdu = f.read().split(\"\\n\")\n",
        "  with open('/content/drive/MyDrive/Colab Notebooks/NLP_Project/Bible/test.en', \"r\", encoding=\"utf-8\") as f:\n",
        "      lines_eng = f.read().split(\"\\n\")\n",
        "  for each in lines_eng:\n",
        "    test_source.append(each)\n",
        "  for each in lines_urdu:\n",
        "    test_target.append(each)\n",
        "  return test_source,test_target\n",
        "test_source,test_target=test_data()  "
      ],
      "metadata": {
        "id": "GqMJ6Ip4OVEJ"
      },
      "execution_count": 100,
      "outputs": []
    },
    {
      "cell_type": "code",
      "source": [
        "test_source=conv_lower_case(test_source)\n",
        "test_source=remove_quotes(test_source)\n",
        "test_target=remove_quotes(test_target)"
      ],
      "metadata": {
        "id": "LwlxKlMjVhY3"
      },
      "execution_count": 101,
      "outputs": []
    },
    {
      "cell_type": "code",
      "source": [
        "def inp_out_characters(source_sentences,target_sentences):\n",
        "  input_characters = set()\n",
        "  target_characters = set()\n",
        "  target_texts_updated=[]\n",
        "  for each in source_sentences:\n",
        "    for char in each:\n",
        "        if char not in input_characters:\n",
        "            input_characters.add(char)\n",
        "  for each in target_sentences:\n",
        "    val= \"\\n\" + each + \"\\t\"\n",
        "    target_texts_updated.append(val)\n",
        "    for char in val:\n",
        "        if char not in target_characters:\n",
        "            target_characters.add(char)\n",
        "  input_characters = sorted(list(input_characters))\n",
        "  target_characters = sorted(list(target_characters))\n",
        "  return input_characters,target_characters,target_texts_updated"
      ],
      "metadata": {
        "id": "dgDygQbfdgD2"
      },
      "execution_count": 102,
      "outputs": []
    },
    {
      "cell_type": "code",
      "source": [
        "def data_stats(input_characters,target_characters,source_sentences,target_sentences): \n",
        "  num_encoder_tokens = len(input_characters) \n",
        "  num_decoder_tokens = len(target_characters)\n",
        "  max_encoder_seq_length = max([len(txt) for txt in source_sentences])\n",
        "  max_decoder_seq_length = max([len(txt) for txt in target_sentences])\n",
        "  return num_encoder_tokens,num_decoder_tokens,max_encoder_seq_length,max_decoder_seq_length"
      ],
      "metadata": {
        "id": "Sih_uyjidoBq"
      },
      "execution_count": 103,
      "outputs": []
    },
    {
      "cell_type": "code",
      "source": [
        "input_characters,target_characters,test_target=inp_out_characters(test_source,test_target)\n",
        "input_token_index = dict([(char, i) for i, char in enumerate(input_characters)])\n",
        "target_token_index = dict([(char, i) for i, char in enumerate(target_characters)])"
      ],
      "metadata": {
        "id": "KyKzA4PxdrQY"
      },
      "execution_count": 104,
      "outputs": []
    },
    {
      "cell_type": "code",
      "source": [
        "num_encoder_tokens,num_decoder_tokens,max_encoder_seq_length,max_decoder_seq_length=data_stats(input_characters,target_characters,test_source,test_target)\n",
        "print(\"Number of samples:\", len(test_source))\n",
        "print(\"Number of unique input tokens:\", num_encoder_tokens)\n",
        "print(\"Number of unique output tokens:\", num_decoder_tokens)\n",
        "print(\"Max sequence length for inputs:\", max_encoder_seq_length)\n",
        "print(\"Max sequence length for outputs:\", max_decoder_seq_length)"
      ],
      "metadata": {
        "colab": {
          "base_uri": "https://localhost:8080/"
        },
        "id": "A38uCvIYdvmx",
        "outputId": "93fada98-662d-4b52-8d0c-8609498b02b1"
      },
      "execution_count": 105,
      "outputs": [
        {
          "output_type": "stream",
          "name": "stdout",
          "text": [
            "Number of samples: 258\n",
            "Number of unique input tokens: 33\n",
            "Number of unique output tokens: 50\n",
            "Max sequence length for inputs: 371\n",
            "Max sequence length for outputs: 335\n"
          ]
        }
      ]
    },
    {
      "cell_type": "markdown",
      "source": [
        "##BLEU Score"
      ],
      "metadata": {
        "id": "DDWA1L9b3Vur"
      }
    },
    {
      "cell_type": "code",
      "source": [
        "result = [] \n",
        "total = 0\n",
        "for i in range(len(test_source)):\n",
        "  result.append(anything_goes_translation([test_source[i]],max_encoder_seq_length))\n",
        "  total += nltk.translate.bleu_score.sentence_bleu([test_target[i]], result[-1], weights=[1])\n",
        "print(total/len(test_source))\n"
      ],
      "metadata": {
        "colab": {
          "base_uri": "https://localhost:8080/"
        },
        "id": "T8p7sHL9I-S6",
        "outputId": "3c1e6a5d-7c8e-46ca-f02d-2df37872d721"
      },
      "execution_count": null,
      "outputs": [
        {
          "output_type": "stream",
          "name": "stdout",
          "text": [
            "0.5043227598614135\n"
          ]
        }
      ]
    },
    {
      "cell_type": "code",
      "source": [
        "bleu_score=total/len(test_source)\n",
        "print(\"Bleu Score: \",bleu_score)"
      ],
      "metadata": {
        "colab": {
          "base_uri": "https://localhost:8080/"
        },
        "id": "ASZYjYPWJ84Q",
        "outputId": "fae7ce72-9dcb-4aab-89c0-081fc06e679c"
      },
      "execution_count": null,
      "outputs": [
        {
          "output_type": "stream",
          "name": "stdout",
          "text": [
            "Bleu Score:  0.5043227598614135\n"
          ]
        }
      ]
    },
    {
      "cell_type": "code",
      "source": [
        "import pickle\n",
        "with open('/content/drive/MyDrive/Colab Notebooks/NLP_Project/Bleu_Score_Char_Level', 'wb') as file:\n",
        "  pickle.dump(bleu_score, file)"
      ],
      "metadata": {
        "id": "paAPWXD5MCnd"
      },
      "execution_count": null,
      "outputs": []
    },
    {
      "cell_type": "markdown",
      "source": [
        "#Neural Machine Translation With Attention\n",
        "\n",
        "**Source:** https://www.tensorflow.org/text/tutorials/nmt_with_attention"
      ],
      "metadata": {
        "id": "dcuLlOOrcgoc"
      }
    },
    {
      "cell_type": "code",
      "source": [
        "pip install einops"
      ],
      "metadata": {
        "colab": {
          "base_uri": "https://localhost:8080/"
        },
        "id": "A4D3-GI5eick",
        "outputId": "edc73883-8c10-4d3f-a61b-78ed9b99d62e"
      },
      "execution_count": 1,
      "outputs": [
        {
          "output_type": "stream",
          "name": "stdout",
          "text": [
            "Looking in indexes: https://pypi.org/simple, https://us-python.pkg.dev/colab-wheels/public/simple/\n",
            "Collecting einops\n",
            "  Downloading einops-0.6.0-py3-none-any.whl (41 kB)\n",
            "\u001b[K     |████████████████████████████████| 41 kB 138 kB/s \n",
            "\u001b[?25hInstalling collected packages: einops\n",
            "Successfully installed einops-0.6.0\n"
          ]
        }
      ]
    },
    {
      "cell_type": "code",
      "source": [
        "pip install tensorflow-text"
      ],
      "metadata": {
        "colab": {
          "base_uri": "https://localhost:8080/"
        },
        "id": "PCaJfxvnetxl",
        "outputId": "2dd728c6-aeeb-47f7-ebe3-66d26fd3ee6d"
      },
      "execution_count": 2,
      "outputs": [
        {
          "output_type": "stream",
          "name": "stdout",
          "text": [
            "Looking in indexes: https://pypi.org/simple, https://us-python.pkg.dev/colab-wheels/public/simple/\n",
            "Collecting tensorflow-text\n",
            "  Downloading tensorflow_text-2.11.0-cp38-cp38-manylinux_2_17_x86_64.manylinux2014_x86_64.whl (5.8 MB)\n",
            "\u001b[K     |████████████████████████████████| 5.8 MB 33.6 MB/s \n",
            "\u001b[?25hCollecting tensorflow<2.12,>=2.11.0\n",
            "  Downloading tensorflow-2.11.0-cp38-cp38-manylinux_2_17_x86_64.manylinux2014_x86_64.whl (588.3 MB)\n",
            "\u001b[K     |████████████████████████████████| 588.3 MB 18 kB/s \n",
            "\u001b[?25hRequirement already satisfied: tensorflow-hub>=0.8.0 in /usr/local/lib/python3.8/dist-packages (from tensorflow-text) (0.12.0)\n",
            "Requirement already satisfied: gast<=0.4.0,>=0.2.1 in /usr/local/lib/python3.8/dist-packages (from tensorflow<2.12,>=2.11.0->tensorflow-text) (0.4.0)\n",
            "Requirement already satisfied: wrapt>=1.11.0 in /usr/local/lib/python3.8/dist-packages (from tensorflow<2.12,>=2.11.0->tensorflow-text) (1.14.1)\n",
            "Requirement already satisfied: setuptools in /usr/local/lib/python3.8/dist-packages (from tensorflow<2.12,>=2.11.0->tensorflow-text) (57.4.0)\n",
            "Requirement already satisfied: six>=1.12.0 in /usr/local/lib/python3.8/dist-packages (from tensorflow<2.12,>=2.11.0->tensorflow-text) (1.15.0)\n",
            "Collecting tensorflow-estimator<2.12,>=2.11.0\n",
            "  Downloading tensorflow_estimator-2.11.0-py2.py3-none-any.whl (439 kB)\n",
            "\u001b[K     |████████████████████████████████| 439 kB 64.0 MB/s \n",
            "\u001b[?25hRequirement already satisfied: protobuf<3.20,>=3.9.2 in /usr/local/lib/python3.8/dist-packages (from tensorflow<2.12,>=2.11.0->tensorflow-text) (3.19.6)\n",
            "Collecting flatbuffers>=2.0\n",
            "  Downloading flatbuffers-22.12.6-py2.py3-none-any.whl (26 kB)\n",
            "Requirement already satisfied: typing-extensions>=3.6.6 in /usr/local/lib/python3.8/dist-packages (from tensorflow<2.12,>=2.11.0->tensorflow-text) (4.4.0)\n",
            "Requirement already satisfied: grpcio<2.0,>=1.24.3 in /usr/local/lib/python3.8/dist-packages (from tensorflow<2.12,>=2.11.0->tensorflow-text) (1.51.1)\n",
            "Requirement already satisfied: h5py>=2.9.0 in /usr/local/lib/python3.8/dist-packages (from tensorflow<2.12,>=2.11.0->tensorflow-text) (3.1.0)\n",
            "Requirement already satisfied: numpy>=1.20 in /usr/local/lib/python3.8/dist-packages (from tensorflow<2.12,>=2.11.0->tensorflow-text) (1.21.6)\n",
            "Collecting keras<2.12,>=2.11.0\n",
            "  Downloading keras-2.11.0-py2.py3-none-any.whl (1.7 MB)\n",
            "\u001b[K     |████████████████████████████████| 1.7 MB 48.5 MB/s \n",
            "\u001b[?25hRequirement already satisfied: tensorflow-io-gcs-filesystem>=0.23.1 in /usr/local/lib/python3.8/dist-packages (from tensorflow<2.12,>=2.11.0->tensorflow-text) (0.28.0)\n",
            "Requirement already satisfied: google-pasta>=0.1.1 in /usr/local/lib/python3.8/dist-packages (from tensorflow<2.12,>=2.11.0->tensorflow-text) (0.2.0)\n",
            "Requirement already satisfied: opt-einsum>=2.3.2 in /usr/local/lib/python3.8/dist-packages (from tensorflow<2.12,>=2.11.0->tensorflow-text) (3.3.0)\n",
            "Requirement already satisfied: absl-py>=1.0.0 in /usr/local/lib/python3.8/dist-packages (from tensorflow<2.12,>=2.11.0->tensorflow-text) (1.3.0)\n",
            "Requirement already satisfied: libclang>=13.0.0 in /usr/local/lib/python3.8/dist-packages (from tensorflow<2.12,>=2.11.0->tensorflow-text) (14.0.6)\n",
            "Requirement already satisfied: termcolor>=1.1.0 in /usr/local/lib/python3.8/dist-packages (from tensorflow<2.12,>=2.11.0->tensorflow-text) (2.1.1)\n",
            "Requirement already satisfied: packaging in /usr/local/lib/python3.8/dist-packages (from tensorflow<2.12,>=2.11.0->tensorflow-text) (21.3)\n",
            "Collecting tensorboard<2.12,>=2.11\n",
            "  Downloading tensorboard-2.11.0-py3-none-any.whl (6.0 MB)\n",
            "\u001b[K     |████████████████████████████████| 6.0 MB 24.2 MB/s \n",
            "\u001b[?25hRequirement already satisfied: astunparse>=1.6.0 in /usr/local/lib/python3.8/dist-packages (from tensorflow<2.12,>=2.11.0->tensorflow-text) (1.6.3)\n",
            "Requirement already satisfied: wheel<1.0,>=0.23.0 in /usr/local/lib/python3.8/dist-packages (from astunparse>=1.6.0->tensorflow<2.12,>=2.11.0->tensorflow-text) (0.38.4)\n",
            "Requirement already satisfied: tensorboard-plugin-wit>=1.6.0 in /usr/local/lib/python3.8/dist-packages (from tensorboard<2.12,>=2.11->tensorflow<2.12,>=2.11.0->tensorflow-text) (1.8.1)\n",
            "Requirement already satisfied: google-auth<3,>=1.6.3 in /usr/local/lib/python3.8/dist-packages (from tensorboard<2.12,>=2.11->tensorflow<2.12,>=2.11.0->tensorflow-text) (2.15.0)\n",
            "Requirement already satisfied: tensorboard-data-server<0.7.0,>=0.6.0 in /usr/local/lib/python3.8/dist-packages (from tensorboard<2.12,>=2.11->tensorflow<2.12,>=2.11.0->tensorflow-text) (0.6.1)\n",
            "Requirement already satisfied: requests<3,>=2.21.0 in /usr/local/lib/python3.8/dist-packages (from tensorboard<2.12,>=2.11->tensorflow<2.12,>=2.11.0->tensorflow-text) (2.23.0)\n",
            "Requirement already satisfied: werkzeug>=1.0.1 in /usr/local/lib/python3.8/dist-packages (from tensorboard<2.12,>=2.11->tensorflow<2.12,>=2.11.0->tensorflow-text) (1.0.1)\n",
            "Requirement already satisfied: markdown>=2.6.8 in /usr/local/lib/python3.8/dist-packages (from tensorboard<2.12,>=2.11->tensorflow<2.12,>=2.11.0->tensorflow-text) (3.4.1)\n",
            "Requirement already satisfied: google-auth-oauthlib<0.5,>=0.4.1 in /usr/local/lib/python3.8/dist-packages (from tensorboard<2.12,>=2.11->tensorflow<2.12,>=2.11.0->tensorflow-text) (0.4.6)\n",
            "Requirement already satisfied: cachetools<6.0,>=2.0.0 in /usr/local/lib/python3.8/dist-packages (from google-auth<3,>=1.6.3->tensorboard<2.12,>=2.11->tensorflow<2.12,>=2.11.0->tensorflow-text) (5.2.0)\n",
            "Requirement already satisfied: pyasn1-modules>=0.2.1 in /usr/local/lib/python3.8/dist-packages (from google-auth<3,>=1.6.3->tensorboard<2.12,>=2.11->tensorflow<2.12,>=2.11.0->tensorflow-text) (0.2.8)\n",
            "Requirement already satisfied: rsa<5,>=3.1.4 in /usr/local/lib/python3.8/dist-packages (from google-auth<3,>=1.6.3->tensorboard<2.12,>=2.11->tensorflow<2.12,>=2.11.0->tensorflow-text) (4.9)\n",
            "Requirement already satisfied: requests-oauthlib>=0.7.0 in /usr/local/lib/python3.8/dist-packages (from google-auth-oauthlib<0.5,>=0.4.1->tensorboard<2.12,>=2.11->tensorflow<2.12,>=2.11.0->tensorflow-text) (1.3.1)\n",
            "Requirement already satisfied: importlib-metadata>=4.4 in /usr/local/lib/python3.8/dist-packages (from markdown>=2.6.8->tensorboard<2.12,>=2.11->tensorflow<2.12,>=2.11.0->tensorflow-text) (4.13.0)\n",
            "Requirement already satisfied: zipp>=0.5 in /usr/local/lib/python3.8/dist-packages (from importlib-metadata>=4.4->markdown>=2.6.8->tensorboard<2.12,>=2.11->tensorflow<2.12,>=2.11.0->tensorflow-text) (3.11.0)\n",
            "Requirement already satisfied: pyasn1<0.5.0,>=0.4.6 in /usr/local/lib/python3.8/dist-packages (from pyasn1-modules>=0.2.1->google-auth<3,>=1.6.3->tensorboard<2.12,>=2.11->tensorflow<2.12,>=2.11.0->tensorflow-text) (0.4.8)\n",
            "Requirement already satisfied: certifi>=2017.4.17 in /usr/local/lib/python3.8/dist-packages (from requests<3,>=2.21.0->tensorboard<2.12,>=2.11->tensorflow<2.12,>=2.11.0->tensorflow-text) (2022.9.24)\n",
            "Requirement already satisfied: idna<3,>=2.5 in /usr/local/lib/python3.8/dist-packages (from requests<3,>=2.21.0->tensorboard<2.12,>=2.11->tensorflow<2.12,>=2.11.0->tensorflow-text) (2.10)\n",
            "Requirement already satisfied: chardet<4,>=3.0.2 in /usr/local/lib/python3.8/dist-packages (from requests<3,>=2.21.0->tensorboard<2.12,>=2.11->tensorflow<2.12,>=2.11.0->tensorflow-text) (3.0.4)\n",
            "Requirement already satisfied: urllib3!=1.25.0,!=1.25.1,<1.26,>=1.21.1 in /usr/local/lib/python3.8/dist-packages (from requests<3,>=2.21.0->tensorboard<2.12,>=2.11->tensorflow<2.12,>=2.11.0->tensorflow-text) (1.24.3)\n",
            "Requirement already satisfied: oauthlib>=3.0.0 in /usr/local/lib/python3.8/dist-packages (from requests-oauthlib>=0.7.0->google-auth-oauthlib<0.5,>=0.4.1->tensorboard<2.12,>=2.11->tensorflow<2.12,>=2.11.0->tensorflow-text) (3.2.2)\n",
            "Requirement already satisfied: pyparsing!=3.0.5,>=2.0.2 in /usr/local/lib/python3.8/dist-packages (from packaging->tensorflow<2.12,>=2.11.0->tensorflow-text) (3.0.9)\n",
            "Installing collected packages: tensorflow-estimator, tensorboard, keras, flatbuffers, tensorflow, tensorflow-text\n",
            "  Attempting uninstall: tensorflow-estimator\n",
            "    Found existing installation: tensorflow-estimator 2.9.0\n",
            "    Uninstalling tensorflow-estimator-2.9.0:\n",
            "      Successfully uninstalled tensorflow-estimator-2.9.0\n",
            "  Attempting uninstall: tensorboard\n",
            "    Found existing installation: tensorboard 2.9.1\n",
            "    Uninstalling tensorboard-2.9.1:\n",
            "      Successfully uninstalled tensorboard-2.9.1\n",
            "  Attempting uninstall: keras\n",
            "    Found existing installation: keras 2.9.0\n",
            "    Uninstalling keras-2.9.0:\n",
            "      Successfully uninstalled keras-2.9.0\n",
            "  Attempting uninstall: flatbuffers\n",
            "    Found existing installation: flatbuffers 1.12\n",
            "    Uninstalling flatbuffers-1.12:\n",
            "      Successfully uninstalled flatbuffers-1.12\n",
            "  Attempting uninstall: tensorflow\n",
            "    Found existing installation: tensorflow 2.9.2\n",
            "    Uninstalling tensorflow-2.9.2:\n",
            "      Successfully uninstalled tensorflow-2.9.2\n",
            "Successfully installed flatbuffers-22.12.6 keras-2.11.0 tensorboard-2.11.0 tensorflow-2.11.0 tensorflow-estimator-2.11.0 tensorflow-text-2.11.0\n"
          ]
        }
      ]
    },
    {
      "cell_type": "code",
      "source": [
        "import os \n",
        "import sys \n",
        "import random\n",
        "import time\n",
        "import re\n",
        "import numpy as np \n",
        "import pandas as pd\n",
        "from typing import Any, Tuple \n",
        "import nltk\n",
        "nltk.download('punkt')\n",
        "\n",
        "import einops \n",
        "import matplotlib.pyplot as plt\n",
        "import matplotlib.ticker as ticker \n",
        "\n",
        "from sklearn.preprocessing import LabelEncoder\n",
        "from sklearn.model_selection import train_test_split \n",
        "from sklearn.metrics import precision_score, recall_score, f1_score \n",
        "from sklearn import preprocessing \n",
        "\n",
        "random.seed(16)\n",
        "import tensorflow as tf \n",
        "import tensorflow_text  as tf_text \n",
        "#from Bio import pairwise2\n",
        "from functools import partial\n",
        "from collections import deque\n",
        "import pathlib\n",
        "use_builtins = True\n",
        "import pickle as pkl "
      ],
      "metadata": {
        "colab": {
          "base_uri": "https://localhost:8080/"
        },
        "id": "gDAM_2-Bcjb6",
        "outputId": "f2101bf8-018b-45e3-89a2-f5707bc87cad"
      },
      "execution_count": 5,
      "outputs": [
        {
          "output_type": "stream",
          "name": "stderr",
          "text": [
            "[nltk_data] Downloading package punkt to /root/nltk_data...\n",
            "[nltk_data]   Package punkt is already up-to-date!\n"
          ]
        }
      ]
    },
    {
      "cell_type": "markdown",
      "source": [
        "##Load and merge all the datasets"
      ],
      "metadata": {
        "id": "WJ6VU4NDIwWi"
      }
    },
    {
      "cell_type": "code",
      "source": [
        "# Vectorize the data.\n",
        "input_texts = []\n",
        "target_texts = []\n",
        "data_path = \"/content/drive/MyDrive/Colab Notebooks/NLP_Project/Bible/urd.txt\"\n",
        "num_samples=10000\n",
        "with open(data_path, \"r\", encoding=\"utf-8\") as f:\n",
        "    lines = f.read().split(\"\\n\")\n",
        "for line in lines[: min(num_samples, len(lines) - 1)]:\n",
        "    input_text, target_text, _ = line.split(\"\\t\")\n",
        "#     # We use \"tab\" as the \"start sequence\" character\n",
        "    input_texts.append(input_text)\n",
        "    target_texts.append(target_text)\n",
        "print(\"##################################################################\")\n",
        "with open('/content/drive/MyDrive/Colab Notebooks/NLP_Project/Bible/dev.ur', \"r\", encoding=\"utf-8\") as f:\n",
        "    lines_urdu = f.read().split(\"\\n\")\n",
        "with open('/content/drive/MyDrive/Colab Notebooks/NLP_Project/Bible/dev.en', \"r\", encoding=\"utf-8\") as f:\n",
        "    lines_eng = f.read().split(\"\\n\")\n",
        "\n",
        "for each in lines_urdu:\n",
        "   target_texts.append(each)\n",
        "\n",
        "for each in lines_eng:\n",
        "  input_texts.append(each)\n",
        "#########################Bible Data############################################\n",
        "with open('/content/drive/MyDrive/Colab Notebooks/NLP_Project/Bible/train.ur', \"r\", encoding=\"utf-8\") as f:\n",
        "    lines_urdu = f.read().split(\"\\n\")\n",
        "with open('/content/drive/MyDrive/Colab Notebooks/NLP_Project/Bible/train.en', \"r\", encoding=\"utf-8\") as f:\n",
        "    lines_eng = f.read().split(\"\\n\")\n",
        "    # print(lines_eng)\n",
        "for each in lines_urdu:\n",
        "   target_texts.append(each)\n",
        "\n",
        "for each in lines_eng:\n",
        "  input_texts.append(each)\n",
        "\n",
        "################Quran Data##########################\n",
        "with open('/content/drive/MyDrive/Colab Notebooks/NLP_Project/Quran/train.ur', \"r\", encoding=\"utf-8\") as f:\n",
        "    lines_urdu = f.read().split(\"\\n\")\n",
        "    # print(len(lines))\n",
        "with open('/content/drive/MyDrive/Colab Notebooks/NLP_Project/Quran/train.en', \"r\", encoding=\"utf-8\") as f:\n",
        "    lines_eng = f.read().split(\"\\n\")\n",
        "for each in lines_urdu:\n",
        "   target_texts.append(each)\n",
        "\n",
        "for each in lines_eng:\n",
        "  input_texts.append(each)\n",
        "\n",
        "###########################Quran Data#########################################\n",
        "with open('/content/drive/MyDrive/Colab Notebooks/NLP_Project/Quran/dev.ur', \"r\", encoding=\"utf-8\") as f:\n",
        "    lines_urdu = f.read().split(\"\\n\")\n",
        "\n",
        "with open('/content/drive/MyDrive/Colab Notebooks/NLP_Project/Quran/dev.en', \"r\", encoding=\"utf-8\") as f:\n",
        "    lines_eng = f.read().split(\"\\n\")\n",
        "\n",
        "for each in lines_urdu:\n",
        "   target_texts.append(each)\n",
        "\n",
        "for each in lines_eng:\n",
        "  input_texts.append(each)\n",
        "\n",
        "#####################################################################"
      ],
      "metadata": {
        "colab": {
          "base_uri": "https://localhost:8080/"
        },
        "id": "UmvDDdaNKZXc",
        "outputId": "dcb471ee-2d92-40c3-ce83-718bead2bf24"
      },
      "execution_count": 119,
      "outputs": [
        {
          "output_type": "stream",
          "name": "stdout",
          "text": [
            "##################################################################\n"
          ]
        }
      ]
    },
    {
      "cell_type": "code",
      "source": [
        "context_raw=input_texts\n",
        "target_raw=target_texts\n",
        "print(len(context_raw))\n",
        "print(len(target_raw))"
      ],
      "metadata": {
        "colab": {
          "base_uri": "https://localhost:8080/"
        },
        "id": "zVw7P2Mg6Ghf",
        "outputId": "1571c45e-5589-41c0-8b34-5fea1e200860"
      },
      "execution_count": 120,
      "outputs": [
        {
          "output_type": "stream",
          "name": "stdout",
          "text": [
            "15061\n",
            "15061\n"
          ]
        }
      ]
    },
    {
      "cell_type": "code",
      "source": [
        "class ShapeChecker():\n",
        "    def __init__(self):\n",
        "        # Keep a cache of every axis-name seen\n",
        "        self.shapes = {}\n",
        "\n",
        "    def __call__(self, tensor, names, broadcast=False):\n",
        "        if not tf.executing_eagerly():\n",
        "            return\n",
        "\n",
        "        parsed = einops.parse_shape(tensor, names)\n",
        "\n",
        "        for name, new_dim in parsed.items():\n",
        "            old_dim = self.shapes.get(name, None)\n",
        "\n",
        "            if (broadcast and new_dim == 1):\n",
        "                continue\n",
        "\n",
        "            if old_dim is None:\n",
        "                # If the axis name is new, add its length to the cache.\n",
        "                self.shapes[name] = new_dim\n",
        "                continue\n",
        "\n",
        "            if new_dim != old_dim:\n",
        "                raise ValueError(f\"Shape mismatch for dimension: '{name}'\\n\"\n",
        "                                 f\"    found: {new_dim}\\n\"\n",
        "                                 f\"    expected: {old_dim}\\n\")"
      ],
      "metadata": {
        "id": "eDvsI22lfrz_"
      },
      "execution_count": 121,
      "outputs": []
    },
    {
      "cell_type": "code",
      "source": [
        "print(context_raw[-2])\n",
        "print(target_raw[-2])\n",
        "print(len(context_raw))\n",
        "print(len(target_raw))"
      ],
      "metadata": {
        "colab": {
          "base_uri": "https://localhost:8080/"
        },
        "id": "qgwdDFhkfzvS",
        "outputId": "2dde7180-9bec-4758-849e-08751a1b63a1"
      },
      "execution_count": 122,
      "outputs": [
        {
          "output_type": "stream",
          "name": "stdout",
          "text": [
            "Or feeding on a day of scarcity ( the poor and the needy during famine and scarcity i . e . striving to put an end to their sufferings and economic deadlock ) .\n",
            "یا بھوک والے دن یعنی قحط و افلاس کے دور میں غریبوں اور محروم المعیشت لوگوں کو کھانا کھلانا ہے یعنی ان کے معاشی تعطل اور ابتلاء کو ختم کرنے کی جد و جہد کرنا ہے ۔\n",
            "15061\n",
            "15061\n"
          ]
        }
      ]
    },
    {
      "cell_type": "code",
      "source": [
        "np.array(context_raw[0])"
      ],
      "metadata": {
        "colab": {
          "base_uri": "https://localhost:8080/"
        },
        "id": "eDN9PaMggIqz",
        "outputId": "8efda629-cba5-40e3-ca60-fbbe5b5fcbcc"
      },
      "execution_count": 123,
      "outputs": [
        {
          "output_type": "execute_result",
          "data": {
            "text/plain": [
              "array('Hi.', dtype='<U3')"
            ]
          },
          "metadata": {},
          "execution_count": 123
        }
      ]
    },
    {
      "cell_type": "markdown",
      "source": [
        "##From these arrays of strings you can create a tf.data.Dataset of strings that shuffles and batches them efficiently:"
      ],
      "metadata": {
        "id": "O3AwI0ziJAYq"
      }
    },
    {
      "cell_type": "code",
      "source": [
        "BUFFER_SIZE = len(context_raw)\n",
        "BATCH_SIZE = 32\n",
        "\n",
        "is_train = np.random.uniform(size=(len(target_raw),)) < 0.8\n",
        "\n",
        "context_raw_train = []\n",
        "target_raw_train = []  \n",
        "context_raw_val = []\n",
        "target_raw_val = []\n",
        "for i in range(len(is_train)):\n",
        "    if is_train[i]: \n",
        "        context_raw_train.append(context_raw[i])\n",
        "        target_raw_train.append(target_raw[i])\n",
        "    else:\n",
        "        context_raw_val.append(context_raw[i])\n",
        "        target_raw_val.append(target_raw[i])\n",
        "        \n",
        "\n",
        "train_raw = (\n",
        "    tf.data.Dataset\n",
        "    .from_tensor_slices((context_raw_train, target_raw_train))\n",
        "    .shuffle(BUFFER_SIZE)\n",
        "    .batch(BATCH_SIZE))\n",
        "\n",
        "val_raw = (\n",
        "    tf.data.Dataset\n",
        "    .from_tensor_slices((context_raw_val, target_raw_val))\n",
        "    .shuffle(BUFFER_SIZE)\n",
        "    .batch(BATCH_SIZE))"
      ],
      "metadata": {
        "id": "4aj0j71AgPtE"
      },
      "execution_count": 124,
      "outputs": []
    },
    {
      "cell_type": "code",
      "source": [
        "for example_context_strings, example_target_strings in train_raw.take(1):\n",
        "    print(example_context_strings[:5])\n",
        "    print()\n",
        "    print(example_target_strings[:5])\n",
        "    break"
      ],
      "metadata": {
        "colab": {
          "base_uri": "https://localhost:8080/"
        },
        "id": "GvtUEWa6gomn",
        "outputId": "2f9c9986-cba2-4168-fd59-7331c4ad8b0c"
      },
      "execution_count": 125,
      "outputs": [
        {
          "output_type": "stream",
          "name": "stdout",
          "text": [
            "tf.Tensor(\n",
            "[b'And I saw when the Lamb opened one of the seals , and I heard , as it were the noise of thunder , one of the four beasts saying , Come and see .'\n",
            " b'God forbid : yea , let God be true , but every man a liar ; as it is written , That thou mightest be justified in thy sayings , and mightest overcome when thou art judged .'\n",
            " b'And ( the disbelievers ) say : The Most Kind ( Lord ) has taken ( to Himself ) a son .'\n",
            " b'You can come at any time.' b'I had a heart attack.'], shape=(5,), dtype=string)\n",
            "\n",
            "tf.Tensor(\n",
            "[b'\\xd9\\xbe\\xda\\xbe\\xd8\\xb1 \\xd9\\x85\\xdb\\x8c\\xda\\xba \\xd9\\x86\\xdb\\x92 \\xd8\\xaf\\xdb\\x8c\\xda\\xa9\\xda\\xbe\\xd8\\xa7 \\xda\\xa9\\xdb\\x81 \\xd8\\xa8\\xd8\\xb1\\xdb\\x81 \\xd9\\x86\\xdb\\x92 \\xd8\\xa7\\xd9\\x86 \\xd8\\xb3\\xd8\\xa7\\xd8\\xaa \\xd9\\x85\\xdb\\x81\\xd8\\xb1\\xd9\\x88\\xda\\xba \\xd9\\x85\\xdb\\x8c\\xda\\xba \\xd8\\xb3\\xdb\\x92 \\xd8\\xa7\\xdb\\x8c\\xda\\xa9 \\xda\\xa9\\xd9\\x88 \\xda\\xa9\\xda\\xbe\\xd9\\x88\\xd9\\x84\\xd8\\xa7 \\xd8\\xa7\\xd9\\x88\\xd8\\xb1 \\xd8\\xa7\\xd9\\x86 \\xda\\x86\\xd8\\xa7\\xd8\\xb1\\xd9\\x88\\xda\\xba \\xd8\\xac\\xd8\\xa7\\xd9\\x86\\xd8\\xaf\\xd8\\xa7\\xd8\\xb1\\xd9\\x88\\xda\\xba \\xd9\\x85\\xdb\\x8c\\xda\\xba \\xd8\\xb3\\xdb\\x92 \\xd8\\xa7\\xdb\\x8c\\xda\\xa9 \\xda\\xa9\\xdb\\x8c \\xda\\xaf\\xd8\\xb1\\xd8\\xac \\xda\\xa9\\xdb\\x8c \\xd8\\xb3\\xdb\\x8c \\xdb\\x8c\\xdb\\x81 \\xd8\\xa2\\xd9\\x88\\xd8\\xa7\\xd8\\xb2 \\xd8\\xb3\\xd9\\x86\\xdb\\x8c \\xda\\xa9\\xdb\\x81 \\xd8\\xa2 \\xdb\\x94'\n",
            " b'\\xdb\\x81\\xd8\\xb1\\xda\\xaf\\xd8\\xb2 \\xd9\\x86\\xdb\\x81\\xdb\\x8c\\xda\\xba \\xdb\\x94 \\xd8\\xa8\\xd9\\x84\\xda\\xa9\\xdb\\x81 \\xd8\\xae\\xd8\\xaf\\xd8\\xa7 \\xd8\\xb3\\xda\\x86\\xd8\\xa7 \\xd9\\xb9\\xda\\xbe\\xdb\\x81\\xd8\\xb1\\xdb\\x92 \\xd8\\xa7\\xd9\\x88\\xd8\\xb1 \\xdb\\x81\\xd8\\xb1 \\xd8\\xa7\\xdb\\x8c\\xda\\xa9 \\xd8\\xa2\\xd8\\xaf\\xd9\\x85\\xdb\\x8c \\xd8\\xac\\xda\\xbe\\xd9\\x88\\xd9\\xb9\\xd8\\xa7 \\xdb\\x94 \\xda\\x86\\xd9\\x86\\xd8\\xa7\\xd9\\x86\\xda\\x86\\xdb\\x81 \\xd9\\x84\\xda\\xa9\\xda\\xbe\\xd8\\xa7 \\xdb\\x81\\xdb\\x92 \\xda\\xa9\\xdb\\x81 \\xd8\\xaa\\xd9\\x88 \\xd8\\xa7\\xd9\\xbe\\xd9\\x86\\xdb\\x8c \\xd8\\xa8\\xd8\\xa7\\xd8\\xaa\\xd9\\x88\\xda\\xba \\xd9\\x85\\xdb\\x8c\\xda\\xba \\xd8\\xb1\\xd8\\xa7\\xd8\\xb3\\xd8\\xaa\\xd8\\xa8\\xd8\\xa7\\xd8\\xb2 \\xd9\\xb9\\xda\\xbe\\xdb\\x81\\xd8\\xb1\\xdb\\x92 \\xd8\\xa7\\xd9\\x88\\xd8\\xb1 \\xd8\\xa7\\xd9\\xbe\\xd9\\x86\\xdb\\x92 \\xd9\\x85\\xd9\\x82\\xd8\\xaf\\xd9\\x85\\xdb\\x81 \\xd9\\x85\\xdb\\x8c\\xda\\xba \\xd9\\x81\\xd8\\xaa\\xd8\\xad \\xd9\\xbe\\xd8\\xa7\\xd8\\xa6\\xdb\\x92 \\xdb\\x94'\n",
            " b'\\xd8\\xa7\\xd9\\x88\\xd8\\xb1 \\xda\\xa9\\xd8\\xa7\\xd9\\x81\\xd8\\xb1 \\xda\\xa9\\xdb\\x81\\xd8\\xaa\\xdb\\x92 \\xdb\\x81\\xdb\\x8c\\xda\\xba \\xda\\xa9\\xdb\\x81 \\xd8\\xae\\xd8\\xaf\\xd8\\xa7\\xd8\\xa6\\xdb\\x92 \\xd8\\xb1\\xd8\\xad\\xd9\\x85\\xd8\\xa7\\xd9\\x86 \\xd9\\x86\\xdb\\x92 \\xd8\\xa7\\xd9\\xbe\\xd9\\x86\\xdb\\x92 \\xd9\\x84\\xd8\\xa6\\xdb\\x92 \\xd9\\x84\\xda\\x91\\xda\\xa9\\xd8\\xa7 \\xd8\\xa8\\xd9\\x86\\xd8\\xa7 \\xd9\\x84\\xdb\\x8c\\xd8\\xa7 \\xdb\\x81\\xdb\\x92 \\xdb\\x94'\n",
            " b'\\xd8\\xa2\\xd9\\xbe \\xda\\xa9\\xd8\\xb3\\xdb\\x8c \\xd9\\x88\\xd9\\x82\\xd8\\xaa \\xd8\\xa8\\xda\\xbe\\xdb\\x8c \\xd8\\xa2 \\xd8\\xb3\\xda\\xa9\\xd8\\xaa\\xdb\\x92 \\xdb\\x81\\xdb\\x92\\xdb\\x94'\n",
            " b'\\xd9\\x85\\xd8\\xac\\xda\\xbe\\xdb\\x92 \\xd8\\xaf\\xd9\\x84 \\xda\\xa9\\xd8\\xa7 \\xd8\\xaf\\xd9\\x88\\xd8\\xb1\\xdb\\x81 \\xd9\\xbe\\xda\\x91\\xd8\\xa7 \\xd8\\xaa\\xda\\xbe\\xd8\\xa7\\xdb\\x94'], shape=(5,), dtype=string)\n"
          ]
        }
      ]
    },
    {
      "cell_type": "markdown",
      "source": [
        "##Standardization"
      ],
      "metadata": {
        "id": "wpRn441hLus1"
      }
    },
    {
      "cell_type": "code",
      "source": [
        "example_text = tf.constant('But Jesus yet answered nothing ; so that Pilate marvelled .')\n",
        "print(example_text.numpy())\n",
        "print(tf_text.normalize_utf8(example_text, 'NFKD').numpy())"
      ],
      "metadata": {
        "colab": {
          "base_uri": "https://localhost:8080/"
        },
        "id": "yHftbY3HhF14",
        "outputId": "e8d8c1a7-3c15-4f69-9c54-4302ea406a13"
      },
      "execution_count": 126,
      "outputs": [
        {
          "output_type": "stream",
          "name": "stdout",
          "text": [
            "b'But Jesus yet answered nothing ; so that Pilate marvelled .'\n",
            "b'But Jesus yet answered nothing ; so that Pilate marvelled .'\n"
          ]
        }
      ]
    },
    {
      "cell_type": "markdown",
      "source": [
        "##Unicode normalization"
      ],
      "metadata": {
        "id": "Zp-3WTWxL2AX"
      }
    },
    {
      "cell_type": "code",
      "source": [
        "def tf_lower_and_split_punct(text):\n",
        "    # Split accented characters.\n",
        "    text = tf_text.normalize_utf8(text, 'NFKD')\n",
        "    text = tf.strings.lower(text)\n",
        "    text = tf.strings.strip(text)\n",
        "    text = tf.strings.join(['[START]', text, '[END]'], separator=' ')\n",
        "    return text"
      ],
      "metadata": {
        "id": "rlKo-WTNhn7M"
      },
      "execution_count": 127,
      "outputs": []
    },
    {
      "cell_type": "code",
      "source": [
        "print(example_text.numpy().decode())\n",
        "print(tf_lower_and_split_punct(example_text).numpy().decode())"
      ],
      "metadata": {
        "colab": {
          "base_uri": "https://localhost:8080/"
        },
        "id": "mlIccfTziWbR",
        "outputId": "ec8e7a67-76fc-4b36-fa5d-dd0f0450fd20"
      },
      "execution_count": 128,
      "outputs": [
        {
          "output_type": "stream",
          "name": "stdout",
          "text": [
            "But Jesus yet answered nothing ; so that Pilate marvelled .\n",
            "[START] but jesus yet answered nothing ; so that pilate marvelled . [END]\n"
          ]
        }
      ]
    },
    {
      "cell_type": "markdown",
      "source": [
        "##Text Vectorization"
      ],
      "metadata": {
        "id": "ASwjk0rbL8s8"
      }
    },
    {
      "cell_type": "code",
      "source": [
        "max_vocab_size = 10000\n",
        "context_text_processor = tf.keras.layers.TextVectorization(\n",
        "    standardize=tf_lower_and_split_punct,\n",
        "    max_tokens=max_vocab_size,\n",
        "    ragged=True)"
      ],
      "metadata": {
        "id": "03SKIcLcieLZ"
      },
      "execution_count": 129,
      "outputs": []
    },
    {
      "cell_type": "code",
      "source": [
        "context_text_processor.adapt(train_raw.map(lambda context, target: context))\n",
        "# Here are the first 10 words from the vocabulary:\n",
        "context_text_processor.get_vocabulary()[:10]"
      ],
      "metadata": {
        "colab": {
          "base_uri": "https://localhost:8080/"
        },
        "id": "xrrdIp-Ui4hH",
        "outputId": "d3bf9a1e-238e-4902-b8fb-6a4a04a12c9d"
      },
      "execution_count": 130,
      "outputs": [
        {
          "output_type": "execute_result",
          "data": {
            "text/plain": [
              "['', '[UNK]', ',', 'the', 'and', '.', '[START]', '[END]', '(', ')']"
            ]
          },
          "metadata": {},
          "execution_count": 130
        }
      ]
    },
    {
      "cell_type": "code",
      "source": [
        "target_text_processor = tf.keras.layers.TextVectorization(\n",
        "    standardize=tf_lower_and_split_punct,\n",
        "    max_tokens=max_vocab_size,\n",
        "    ragged=True)\n",
        "\n",
        "target_text_processor.adapt(train_raw.map(lambda context, target: target))\n",
        "target_text_processor.get_vocabulary()[:10]"
      ],
      "metadata": {
        "colab": {
          "base_uri": "https://localhost:8080/"
        },
        "id": "7W-r1jsfjAvG",
        "outputId": "8a67d6f2-748f-41f3-ebfb-2b7a652e7f79"
      },
      "execution_count": 131,
      "outputs": [
        {
          "output_type": "execute_result",
          "data": {
            "text/plain": [
              "['', '[UNK]', 'اور', '۔', '[START]', '[END]', 'کے', 'سے', 'میں', 'ہے']"
            ]
          },
          "metadata": {},
          "execution_count": 131
        }
      ]
    },
    {
      "cell_type": "markdown",
      "source": [
        "##Layers can convert a batch of strings into a batch of token IDs"
      ],
      "metadata": {
        "id": "WtPtRpxzMDwP"
      }
    },
    {
      "cell_type": "code",
      "source": [
        "example_tokens = context_text_processor(example_context_strings)\n",
        "example_tokens[:3, :]"
      ],
      "metadata": {
        "colab": {
          "base_uri": "https://localhost:8080/"
        },
        "id": "D8YLxiy9jQp7",
        "outputId": "15f8a00f-7817-4b62-ff2c-d8378d7989de"
      },
      "execution_count": 132,
      "outputs": [
        {
          "output_type": "execute_result",
          "data": {
            "text/plain": [
              "<tf.RaggedTensor [[6, 4, 24, 228, 46, 3, 1677, 642, 64, 10, 3, 2368, 2, 4, 24, 203, 2, 44,\n",
              "  27, 65, 3, 4597, 10, 2832, 2, 64, 10, 3, 715, 1059, 118, 2, 83, 4, 152, 5,\n",
              "  7]                                                                        ,\n",
              " [6, 57, 904, 23, 565, 2, 138, 57, 25, 281, 2, 35, 129, 68, 19, 1305, 50,\n",
              "  44, 27, 15, 346, 2, 12, 80, 2422, 25, 976, 13, 142, 1489, 2, 4, 2422,\n",
              "  2217, 46, 80, 353, 1363, 5, 7]                                         ,\n",
              " [6, 4, 8, 3, 155, 9, 66, 23, 3, 104, 440, 8, 51, 9, 70, 395, 8, 11, 171, 9,\n",
              "  19, 109, 5, 7]                                                            ]>"
            ]
          },
          "metadata": {},
          "execution_count": 132
        }
      ]
    },
    {
      "cell_type": "markdown",
      "source": [
        "##The get_vocabulary method can be used to convert token IDs back to text:"
      ],
      "metadata": {
        "id": "wD2575yVMJcw"
      }
    },
    {
      "cell_type": "code",
      "source": [
        "context_vocab = np.array(context_text_processor.get_vocabulary())\n",
        "tokens = context_vocab[example_tokens[0].numpy()]\n",
        "' '.join(tokens)"
      ],
      "metadata": {
        "colab": {
          "base_uri": "https://localhost:8080/",
          "height": 52
        },
        "id": "K8hhPiT4jTds",
        "outputId": "28d7faab-9753-442a-c945-43bbc7728f95"
      },
      "execution_count": 133,
      "outputs": [
        {
          "output_type": "execute_result",
          "data": {
            "text/plain": [
              "'[START] and i saw when the lamb opened one of the seals , and i heard , as it were the noise of thunder , one of the four beasts saying , come and see . [END]'"
            ],
            "application/vnd.google.colaboratory.intrinsic+json": {
              "type": "string"
            }
          },
          "metadata": {},
          "execution_count": 133
        }
      ]
    },
    {
      "cell_type": "code",
      "source": [
        "def process_text(context, target):\n",
        "    context = context_text_processor(context).to_tensor()\n",
        "    target = target_text_processor(target)\n",
        "    targ_in = target[:,:-1].to_tensor()\n",
        "    targ_out = target[:,1:].to_tensor()\n",
        "    return (context, targ_in), targ_out\n",
        "\n",
        "\n",
        "train_ds = train_raw.map(process_text, tf.data.AUTOTUNE)\n",
        "val_ds = val_raw.map(process_text, tf.data.AUTOTUNE)"
      ],
      "metadata": {
        "id": "Z4ZrPJzWjZhF"
      },
      "execution_count": 134,
      "outputs": []
    },
    {
      "cell_type": "code",
      "source": [
        "for (ex_context_tok, ex_tar_in), ex_tar_out in train_ds.take(1):\n",
        "    print(ex_context_tok[0, :10].numpy()) \n",
        "    print()\n",
        "    print(ex_tar_in[0, :10].numpy()) \n",
        "    print(ex_tar_out[0, :10].numpy()) "
      ],
      "metadata": {
        "colab": {
          "base_uri": "https://localhost:8080/"
        },
        "id": "cFs-N9a1jc8m",
        "outputId": "b591065c-9a9d-41fb-b6de-78585bf55a30"
      },
      "execution_count": 135,
      "outputs": [
        {
          "output_type": "stream",
          "name": "stdout",
          "text": [
            "[   6    8   99   12   16 2319    2   76   15   27]\n",
            "\n",
            "[   4  729   10    6 5262    7    2   28  535  184]\n",
            "[ 729   10    6 5262    7    2   28  535  184    9]\n"
          ]
        }
      ]
    },
    {
      "cell_type": "code",
      "source": [
        "UNITS = 128"
      ],
      "metadata": {
        "id": "ffURrR3MjvBf"
      },
      "execution_count": 136,
      "outputs": []
    },
    {
      "cell_type": "markdown",
      "source": [
        "##Encoder Architecture"
      ],
      "metadata": {
        "id": "2DSbLSVAMW-R"
      }
    },
    {
      "cell_type": "code",
      "source": [
        "class Encoder(tf.keras.layers.Layer):\n",
        "    def __init__(self, text_processor, units):\n",
        "        super(Encoder, self).__init__()\n",
        "        self.text_processor = text_processor\n",
        "        self.vocab_size = text_processor.vocabulary_size()\n",
        "        self.units = units\n",
        "\n",
        "        # The embedding layer converts tokens to vectors\n",
        "        self.embedding = tf.keras.layers.Embedding(self.vocab_size, units,\n",
        "                                                   mask_zero=True)\n",
        "\n",
        "        # The RNN layer processes those vectors sequentially.\n",
        "        self.rnn = tf.keras.layers.Bidirectional(\n",
        "            merge_mode='sum',\n",
        "            layer=tf.keras.layers.GRU(units,\n",
        "                                # Return the sequence and state\n",
        "                                return_sequences=True,\n",
        "                                recurrent_initializer='glorot_uniform'))\n",
        "\n",
        "    def call(self, x):\n",
        "        shape_checker = ShapeChecker()\n",
        "        shape_checker(x, 'batch s')\n",
        "\n",
        "        # 2. The embedding layer looks up the embedding vector for each token.\n",
        "        x = self.embedding(x)\n",
        "        shape_checker(x, 'batch s units')\n",
        "\n",
        "        # 3. The GRU processes the sequence of embeddings.\n",
        "        x = self.rnn(x)\n",
        "        shape_checker(x, 'batch s units')\n",
        "\n",
        "        # 4. Returns the new sequence of embeddings.\n",
        "        return x\n",
        "\n",
        "    def convert_input(self, texts):\n",
        "        texts = tf.convert_to_tensor(texts)\n",
        "        if len(texts.shape) == 0:\n",
        "            texts = tf.convert_to_tensor(texts)[tf.newaxis]\n",
        "        context = self.text_processor(texts).to_tensor()\n",
        "        context = self(context)\n",
        "        return context"
      ],
      "metadata": {
        "id": "XmqNLqvyjxLR"
      },
      "execution_count": 137,
      "outputs": []
    },
    {
      "cell_type": "code",
      "source": [
        "# Encode the input sequence.\n",
        "encoder = Encoder(context_text_processor, UNITS)\n",
        "ex_context = encoder(ex_context_tok)\n",
        "\n",
        "print(f'Context tokens, shape (batch, s): {ex_context_tok.shape}')\n",
        "print(f'Encoder output, shape (batch, s, units): {ex_context.shape}')"
      ],
      "metadata": {
        "colab": {
          "base_uri": "https://localhost:8080/"
        },
        "id": "qkVkDe76j3Eh",
        "outputId": "363aa418-8889-4af4-c85b-ce06c6cef1f4"
      },
      "execution_count": 138,
      "outputs": [
        {
          "output_type": "stream",
          "name": "stdout",
          "text": [
            "Context tokens, shape (batch, s): (32, 83)\n",
            "Encoder output, shape (batch, s, units): (32, 83, 128)\n"
          ]
        }
      ]
    },
    {
      "cell_type": "markdown",
      "source": [
        "##The attention layer"
      ],
      "metadata": {
        "id": "OIOF1U3jMb8J"
      }
    },
    {
      "cell_type": "code",
      "source": [
        "class CrossAttention(tf.keras.layers.Layer):\n",
        "    def __init__(self, units, **kwargs):\n",
        "        super().__init__()\n",
        "        self.mha = tf.keras.layers.MultiHeadAttention(key_dim=units, num_heads=1, **kwargs)\n",
        "        self.layernorm = tf.keras.layers.LayerNormalization()\n",
        "        self.add = tf.keras.layers.Add()\n",
        "\n",
        "    def call(self, x, context):\n",
        "        shape_checker = ShapeChecker()\n",
        "\n",
        "        shape_checker(x, 'batch t units')\n",
        "        shape_checker(context, 'batch s units')\n",
        "\n",
        "        attn_output, attn_scores = self.mha(\n",
        "            query=x,\n",
        "            value=context,\n",
        "            return_attention_scores=True)\n",
        "    \n",
        "        shape_checker(x, 'batch t units')\n",
        "        shape_checker(attn_scores, 'batch heads t s')\n",
        "\n",
        "        # Cache the attention scores for plotting later.\n",
        "        attn_scores = tf.reduce_mean(attn_scores, axis=1)\n",
        "        shape_checker(attn_scores, 'batch t s')\n",
        "        self.last_attention_weights = attn_scores\n",
        "\n",
        "        x = self.add([x, attn_output])\n",
        "        x = self.layernorm(x)\n",
        "\n",
        "        return x"
      ],
      "metadata": {
        "id": "FtjYTxCxj-TM"
      },
      "execution_count": 139,
      "outputs": []
    },
    {
      "cell_type": "code",
      "source": [
        "attention_layer = CrossAttention(UNITS)\n",
        "\n",
        "# Attend to the encoded tokens\n",
        "embed = tf.keras.layers.Embedding(target_text_processor.vocabulary_size(),\n",
        "                                  output_dim=UNITS, mask_zero=True)\n",
        "ex_tar_embed = embed(ex_tar_in)\n",
        "\n",
        "result = attention_layer(ex_tar_embed, ex_context)\n",
        "\n",
        "print(f'Context sequence, shape (batch, s, units): {ex_context.shape}')\n",
        "print(f'Target sequence, shape (batch, t, units): {ex_tar_embed.shape}')\n",
        "print(f'Attention result, shape (batch, t, units): {result.shape}')\n",
        "print(f'Attention weights, shape (batch, t, s):    {attention_layer.last_attention_weights.shape}')"
      ],
      "metadata": {
        "colab": {
          "base_uri": "https://localhost:8080/"
        },
        "id": "bmiBb3v9kH7q",
        "outputId": "cea973ee-8574-44aa-9337-672f4edc3a0b"
      },
      "execution_count": 140,
      "outputs": [
        {
          "output_type": "stream",
          "name": "stdout",
          "text": [
            "Context sequence, shape (batch, s, units): (32, 83, 128)\n",
            "Target sequence, shape (batch, t, units): (32, 69, 128)\n",
            "Attention result, shape (batch, t, units): (32, 69, 128)\n",
            "Attention weights, shape (batch, t, s):    (32, 69, 83)\n"
          ]
        }
      ]
    },
    {
      "cell_type": "code",
      "source": [
        "attention_layer.last_attention_weights[0].numpy().sum(axis=-1)"
      ],
      "metadata": {
        "colab": {
          "base_uri": "https://localhost:8080/"
        },
        "id": "336DkUP5kNV_",
        "outputId": "47ff61ac-d4ef-4526-f325-640fa3d05de4"
      },
      "execution_count": 141,
      "outputs": [
        {
          "output_type": "execute_result",
          "data": {
            "text/plain": [
              "array([1.        , 1.        , 1.        , 0.99999994, 1.        ,\n",
              "       1.        , 1.        , 1.        , 1.        , 1.        ,\n",
              "       1.        , 1.        , 1.        , 0.99999994, 0.99999994,\n",
              "       1.        , 1.        , 0.99999994, 1.        , 0.99999994,\n",
              "       1.        , 1.        , 0.99999994, 1.        , 1.        ,\n",
              "       1.        , 0.99999994, 0.99999994, 0.99999994, 0.99999994,\n",
              "       0.99999994, 0.99999994, 0.99999994, 0.99999994, 0.99999994,\n",
              "       0.99999994, 0.99999994, 0.99999994, 0.99999994, 0.99999994,\n",
              "       0.99999994, 0.99999994, 0.99999994, 0.99999994, 0.99999994,\n",
              "       0.99999994, 0.99999994, 0.99999994, 0.99999994, 0.99999994,\n",
              "       0.99999994, 0.99999994, 0.99999994, 0.99999994, 0.99999994,\n",
              "       0.99999994, 0.99999994, 0.99999994, 0.99999994, 0.99999994,\n",
              "       0.99999994, 0.99999994, 0.99999994, 0.99999994, 0.99999994,\n",
              "       0.99999994, 0.99999994, 0.99999994, 0.99999994], dtype=float32)"
            ]
          },
          "metadata": {},
          "execution_count": 141
        }
      ]
    },
    {
      "cell_type": "code",
      "source": [
        "attention_weights = attention_layer.last_attention_weights\n",
        "mask=(ex_context_tok != 0).numpy()\n",
        "\n",
        "plt.subplot(1, 2, 1)\n",
        "plt.pcolormesh(mask*attention_weights[:, 0, :])\n",
        "plt.title('Attention weights')\n",
        "\n",
        "plt.subplot(1, 2, 2)\n",
        "plt.pcolormesh(mask)\n",
        "plt.title('Mask');"
      ],
      "metadata": {
        "colab": {
          "base_uri": "https://localhost:8080/",
          "height": 281
        },
        "id": "cQpg9AldkR7L",
        "outputId": "832f3f59-9961-4fa9-d49c-219391e782ca"
      },
      "execution_count": 142,
      "outputs": [
        {
          "output_type": "display_data",
          "data": {
            "text/plain": [
              "<Figure size 432x288 with 2 Axes>"
            ],
            "image/png": "[encoded data removed]"
          },
          "metadata": {
            "needs_background": "light"
          }
        }
      ]
    },
    {
      "cell_type": "markdown",
      "source": [
        "##Decoder architecture"
      ],
      "metadata": {
        "id": "08g0dSYIMh2Y"
      }
    },
    {
      "cell_type": "code",
      "source": [
        "class Decoder(tf.keras.layers.Layer):\n",
        "    @classmethod\n",
        "    def add_method(cls, fun):\n",
        "        setattr(cls, fun.__name__, fun)\n",
        "        return fun\n",
        "\n",
        "    def __init__(self, text_processor, units):\n",
        "        super(Decoder, self).__init__()\n",
        "        self.text_processor = text_processor\n",
        "        self.vocab_size = text_processor.vocabulary_size()\n",
        "        self.word_to_id = tf.keras.layers.StringLookup(\n",
        "            vocabulary=text_processor.get_vocabulary(),\n",
        "            mask_token='', oov_token='[UNK]')\n",
        "        self.id_to_word = tf.keras.layers.StringLookup(\n",
        "            vocabulary=text_processor.get_vocabulary(),\n",
        "            mask_token='', oov_token='[UNK]',\n",
        "            invert=True)\n",
        "        self.start_token = self.word_to_id('[START]')\n",
        "        self.end_token = self.word_to_id('[END]')\n",
        "\n",
        "        self.units = units\n",
        "\n",
        "\n",
        "        # 1. The embedding layer converts token IDs to vectors\n",
        "        self.embedding = tf.keras.layers.Embedding(self.vocab_size,\n",
        "                                                   units, mask_zero=True)\n",
        "\n",
        "        # 2. The RNN keeps track of what's been generated so far.\n",
        "        self.rnn = tf.keras.layers.GRU(units,\n",
        "                                       return_sequences=True,\n",
        "                                       return_state=True,\n",
        "                                       recurrent_initializer='glorot_uniform')\n",
        "\n",
        "        # 3. The RNN output will be the query for the attention layer.\n",
        "        self.attention = CrossAttention(units)\n",
        "\n",
        "        # 4. This fully connected layer produces the logits for each\n",
        "        # output token.\n",
        "        self.output_layer = tf.keras.layers.Dense(self.vocab_size)\n",
        "\n",
        "    \n",
        "@Decoder.add_method\n",
        "def call(self,\n",
        "         context, x,\n",
        "         state=None,\n",
        "         return_state=False):  \n",
        "    shape_checker = ShapeChecker()\n",
        "    shape_checker(x, 'batch t')\n",
        "    shape_checker(context, 'batch s units')\n",
        "\n",
        "    # 1. Lookup the embeddings\n",
        "    x = self.embedding(x)\n",
        "    shape_checker(x, 'batch t units')\n",
        "\n",
        "    # 2. Process the target sequence.\n",
        "    x, state = self.rnn(x, initial_state=state)\n",
        "    shape_checker(x, 'batch t units')\n",
        "\n",
        "    # 3. Use the RNN output as the query for the attention over the context.\n",
        "    x = self.attention(x, context)\n",
        "    self.last_attention_weights = self.attention.last_attention_weights\n",
        "    shape_checker(x, 'batch t units')\n",
        "    shape_checker(self.last_attention_weights, 'batch t s')\n",
        "\n",
        "    # Step 4. Generate logit predictions for the next token.\n",
        "    logits = self.output_layer(x)\n",
        "    shape_checker(logits, 'batch t target_vocab_size')\n",
        "\n",
        "    if return_state:\n",
        "        return logits, state\n",
        "    else:\n",
        "        return logits"
      ],
      "metadata": {
        "id": "AUra3HrskYwZ"
      },
      "execution_count": 143,
      "outputs": []
    },
    {
      "cell_type": "code",
      "source": [
        "decoder = Decoder(target_text_processor, UNITS)"
      ],
      "metadata": {
        "id": "7WZlFDrskgdy"
      },
      "execution_count": 144,
      "outputs": []
    },
    {
      "cell_type": "code",
      "source": [
        "logits = decoder(ex_context, ex_tar_in)\n",
        "print(f'encoder output shape: (batch, s, units) {ex_context.shape}')\n",
        "print(f'input target tokens shape: (batch, t) {ex_tar_in.shape}')\n",
        "print(f'logits shape shape: (batch, target_vocabulary_size) {logits.shape}')"
      ],
      "metadata": {
        "colab": {
          "base_uri": "https://localhost:8080/"
        },
        "id": "a4EI3_Qqkrbr",
        "outputId": "4f73b19e-26d4-49e3-9221-cb5638628896"
      },
      "execution_count": 145,
      "outputs": [
        {
          "output_type": "stream",
          "name": "stdout",
          "text": [
            "encoder output shape: (batch, s, units) (32, 83, 128)\n",
            "input target tokens shape: (batch, t) (32, 69)\n",
            "logits shape shape: (batch, target_vocabulary_size) (32, 69, 10000)\n"
          ]
        }
      ]
    },
    {
      "cell_type": "markdown",
      "source": [
        "##Inference"
      ],
      "metadata": {
        "id": "fu5mHveZM4-U"
      }
    },
    {
      "cell_type": "code",
      "source": [
        "@Decoder.add_method\n",
        "def get_initial_state(self, context):\n",
        "    batch_size = tf.shape(context)[0]\n",
        "    start_tokens = tf.fill([batch_size, 1], self.start_token)\n",
        "    done = tf.zeros([batch_size, 1], dtype=tf.bool)\n",
        "    embedded = self.embedding(start_tokens)\n",
        "    return start_tokens, done, self.rnn.get_initial_state(embedded)[0]"
      ],
      "metadata": {
        "id": "eNt41rhQkxG_"
      },
      "execution_count": 146,
      "outputs": []
    },
    {
      "cell_type": "code",
      "source": [
        "@Decoder.add_method\n",
        "def tokens_to_text(self, tokens):\n",
        "    words = self.id_to_word(tokens)\n",
        "    result = tf.strings.reduce_join(words, axis=-1, separator=' ')\n",
        "    result = tf.strings.regex_replace(result, '^ *\\[START\\] *', '')\n",
        "    result = tf.strings.regex_replace(result, ' *\\[END\\] *$', '')\n",
        "    return result"
      ],
      "metadata": {
        "id": "Wd8z_lo0k-Yp"
      },
      "execution_count": 147,
      "outputs": []
    },
    {
      "cell_type": "code",
      "source": [
        "@Decoder.add_method\n",
        "def get_next_token(self, context, next_token, done, state, temperature = 0.0):\n",
        "    logits, state = self(\n",
        "    context, next_token,\n",
        "    state = state,\n",
        "    return_state=True) \n",
        "  \n",
        "    if temperature == 0.0:\n",
        "        next_token = tf.argmax(logits, axis=-1)\n",
        "    else:\n",
        "        logits = logits[:, -1, :]/temperature\n",
        "        next_token = tf.random.categorical(logits, num_samples=1)\n",
        "\n",
        "    # If a sequence produces an `end_token`, set it `done`\n",
        "    done = done | (next_token == self.end_token)\n",
        "    # Once a sequence is done it only produces 0-padding.\n",
        "    next_token = tf.where(done, tf.constant(0, dtype=tf.int64), next_token)\n",
        "\n",
        "    return next_token, done, state"
      ],
      "metadata": {
        "id": "vQonucxRlATX"
      },
      "execution_count": 148,
      "outputs": []
    },
    {
      "cell_type": "code",
      "source": [
        "# Setup the loop variables.\n",
        "next_token, done, state = decoder.get_initial_state(ex_context)\n",
        "tokens = []\n",
        "\n",
        "for n in range(10):\n",
        "  # Run one step.\n",
        "  next_token, done, state = decoder.get_next_token(\n",
        "      ex_context, next_token, done, state, temperature=1.0)\n",
        "  # Add the token to the output.\n",
        "  tokens.append(next_token)\n",
        "\n",
        "# Stack all the tokens together.\n",
        "tokens = tf.concat(tokens, axis=-1) # (batch, t)\n",
        "\n",
        "# Convert the tokens back to a a string\n",
        "result = decoder.tokens_to_text(tokens)\n",
        "result[:3].numpy()"
      ],
      "metadata": {
        "colab": {
          "base_uri": "https://localhost:8080/"
        },
        "id": "v0EDkd61lChT",
        "outputId": "341454b3-4b8c-432a-e3f8-a71b29b0740e"
      },
      "execution_count": 149,
      "outputs": [
        {
          "output_type": "execute_result",
          "data": {
            "text/plain": [
              "array([b'\\xda\\xa9\\xdb\\x8c\\xd8\\xa7\\xdb\\x94 \\xda\\xa9\\xd9\\x85\\xd8\\xb1\\xdb\\x8c\\xda\\xba \\xd8\\xa8\\xda\\xbe\\xdb\\x8c\\xd8\\xac\\xdb\\x8c\\xda\\xaf\\xd8\\xa7 \\xd8\\xaa\\xd8\\xb1\\xd9\\x82\\xdb\\x8c \\xd9\\xbe\\xdb\\x8c\\xd9\\xbe \\xd8\\xb4\\xd8\\xa7\\xd9\\x84\\xdb\\x8c\\xd9\\x85 \\xd8\\xa8\\xd9\\x88\\xd9\\x84\\xd8\\xa7 \\xd9\\x86\\xd9\\x88\\xd8\\xb1 \\xd9\\x85\\xd9\\x88\\xd9\\x82\\xd8\\xb9\\xdb\\x81 \\xda\\xa9\\xd9\\x86\\xda\\xaf\\xd8\\xa7\\xd9\\x84\\xd9\\x88\\xda\\xba',\n",
              "       b'\\xd8\\xb3\\xd9\\x85\\xd8\\xac\\xda\\xbe\\xd8\\xa7\\xdb\\x8c\\xd8\\xa7 \\xd8\\xb3\\xd9\\x84\\xd8\\xb7\\xd9\\x86\\xd8\\xaa \\xd9\\x84\\xd8\\xa7\\xd9\\x8a\\xd9\\x94\\xd8\\xad\\xdb\\x81 \\xd8\\xaf\\xd8\\xa8\\xd8\\xa7\\xdb\\x8c\\xd8\\xa7 \\xd9\\x81\\xd8\\xb1\\xd9\\x85\\xd8\\xa7\\xd9\\x86\\xd8\\xa8\\xd8\\xb1\\xd8\\xaf\\xd8\\xa7\\xd8\\xb1 \\xd8\\xaa\\xdb\\x81\\xdb\\x81 \\xd8\\xaa\\xd8\\xb9\\xd8\\xb7\\xd9\\x84 \\xda\\x86\\xd9\\xb9\\xd8\\xa7\\xd9\\x86 \\xd8\\xa8\\xda\\x91\\xdb\\x92 \\xd8\\xb2\\xdb\\x8c\\xd8\\xb1\\xdb\\x81',\n",
              "       b'\\xd8\\xb1\\xd9\\x8a\\xd9\\x94\\xdb\\x8c\\xd8\\xb3 \\xd9\\x85\\xd8\\xaa\\xd9\\x88\\xd8\\xb3\\xd8\\xb7 \\xd8\\xb9\\xd8\\xa7\\xd8\\xaf\\xd9\\x84 \\xd9\\x85\\xd8\\xa7\\xd9\\x86\\xd9\\x88 \\xd9\\x85\\xd8\\xaa\\xd8\\xad\\xd9\\x85\\xd9\\x84 \\xda\\x86\\xd8\\xb3\\xd8\\xa7\\xdb\\x8c\\xd8\\xa7 \\xd8\\xaf\\xd9\\x88\\xda\\x91\\xd8\\xaa\\xd8\\xa7 \\xd8\\xaa\\xd8\\xac\\xd8\\xb1\\xd8\\xa8\\xdb\\x92 \\xd9\\x85\\xd8\\xb4\\xd9\\x85\\xd9\\x88\\xd9\\x84\\xd8\\xa7\\xd8\\xaa \\xd9\\x85\\xd9\\x88\\xd9\\x86\\xda\\xaf\\xdb\\x92'],\n",
              "      dtype=object)"
            ]
          },
          "metadata": {},
          "execution_count": 149
        }
      ]
    },
    {
      "cell_type": "markdown",
      "source": [
        "##Model"
      ],
      "metadata": {
        "id": "h3iOvVNZM-va"
      }
    },
    {
      "cell_type": "code",
      "source": [
        "class Translator(tf.keras.Model):\n",
        "    @classmethod\n",
        "    def add_method(cls, fun):\n",
        "        setattr(cls, fun.__name__, fun)\n",
        "        return fun\n",
        "\n",
        "    def __init__(self, units,\n",
        "                context_text_processor,\n",
        "                target_text_processor):\n",
        "        super().__init__()\n",
        "        # Build the encoder and decoder\n",
        "        encoder = Encoder(context_text_processor, units)\n",
        "        decoder = Decoder(target_text_processor, units)\n",
        "\n",
        "        self.encoder = encoder\n",
        "        self.decoder = decoder\n",
        "\n",
        "    def call(self, inputs):\n",
        "        context, x = inputs\n",
        "        context = self.encoder(context)\n",
        "        logits = self.decoder(context, x)\n",
        "\n",
        "        #TODO(b/250038731): remove this\n",
        "        try:\n",
        "            # Delete the keras mask, so keras doesn't scale the loss+accuracy. \n",
        "            del logits._keras_mask\n",
        "        except AttributeError:\n",
        "            pass\n",
        "\n",
        "        return logits"
      ],
      "metadata": {
        "id": "ORpLPiWnlJUH"
      },
      "execution_count": 150,
      "outputs": []
    },
    {
      "cell_type": "code",
      "source": [
        "# model = Translator(UNITS, context_text_processor, target_text_processor)\n",
        "\n",
        "# logits = model((ex_context_tok, ex_tar_in))\n",
        "\n",
        "model = Translator(UNITS, context_text_processor, target_text_processor)\n",
        "\n",
        "logits = model((ex_context_tok, ex_tar_in))\n",
        "\n",
        "print(f'Context tokens, shape: (batch, s, units) {ex_context_tok.shape}')\n",
        "print(f'Target tokens, shape: (batch, t) {ex_tar_in.shape}')\n",
        "print(f'logits, shape: (batch, t, target_vocabulary_size) {logits.shape}')"
      ],
      "metadata": {
        "colab": {
          "base_uri": "https://localhost:8080/"
        },
        "id": "3rtYz_BOlT2c",
        "outputId": "d5f78357-27c5-4b40-d08c-2000804813a5"
      },
      "execution_count": 151,
      "outputs": [
        {
          "output_type": "stream",
          "name": "stdout",
          "text": [
            "Context tokens, shape: (batch, s, units) (32, 83)\n",
            "Target tokens, shape: (batch, t) (32, 69)\n",
            "logits, shape: (batch, t, target_vocabulary_size) (32, 69, 10000)\n"
          ]
        }
      ]
    },
    {
      "cell_type": "markdown",
      "source": [
        "##Training"
      ],
      "metadata": {
        "id": "hYglEd4zNFUm"
      }
    },
    {
      "cell_type": "code",
      "source": [
        "def masked_loss(y_true, y_pred):\n",
        "    # Calculate the loss for each item in the batch.\n",
        "    loss_fn = tf.keras.losses.SparseCategoricalCrossentropy(\n",
        "        from_logits=True, reduction='none')\n",
        "    loss = loss_fn(y_true, y_pred)\n",
        "\n",
        "    # Mask off the losses on padding.\n",
        "    mask = tf.cast(y_true != 0, loss.dtype)\n",
        "    loss *= mask\n",
        "\n",
        "    # Return the total.\n",
        "    return tf.reduce_sum(loss)/tf.reduce_sum(mask)"
      ],
      "metadata": {
        "id": "AoMxefu5lgIz"
      },
      "execution_count": 152,
      "outputs": []
    },
    {
      "cell_type": "code",
      "source": [
        "def masked_acc(y_true, y_pred):\n",
        "    # Calculate the loss for each item in the batch.\n",
        "    y_pred = tf.argmax(y_pred, axis=-1)\n",
        "    y_pred = tf.cast(y_pred, y_true.dtype)\n",
        "    \n",
        "    match = tf.cast(y_true == y_pred, tf.float32)\n",
        "    mask = tf.cast(y_true != 0, tf.float32)\n",
        "    \n",
        "    return tf.reduce_sum(match)/tf.reduce_sum(mask)"
      ],
      "metadata": {
        "id": "EN7J3PZ9ls7M"
      },
      "execution_count": 153,
      "outputs": []
    },
    {
      "cell_type": "code",
      "source": [
        "model.compile(optimizer='adam',\n",
        "              loss=masked_loss, \n",
        "              metrics=[masked_acc, masked_loss])"
      ],
      "metadata": {
        "id": "ZOXOoqwllkhr"
      },
      "execution_count": 154,
      "outputs": []
    },
    {
      "cell_type": "code",
      "source": [
        "vocab_size = 1.0 * target_text_processor.vocabulary_size()\n",
        "\n",
        "{\"expected_loss\": tf.math.log(vocab_size).numpy(),\n",
        " \"expected_acc\": 1/vocab_size}"
      ],
      "metadata": {
        "colab": {
          "base_uri": "https://localhost:8080/"
        },
        "id": "dASdiWErloe8",
        "outputId": "da9c8292-648f-4d75-873f-a6269b5ad2d2"
      },
      "execution_count": 155,
      "outputs": [
        {
          "output_type": "execute_result",
          "data": {
            "text/plain": [
              "{'expected_loss': 9.2103405, 'expected_acc': 0.0001}"
            ]
          },
          "metadata": {},
          "execution_count": 155
        }
      ]
    },
    {
      "cell_type": "code",
      "source": [
        "model.evaluate(val_ds, steps=20, return_dict=True)"
      ],
      "metadata": {
        "colab": {
          "base_uri": "https://localhost:8080/"
        },
        "id": "HEDW_hPMlxwr",
        "outputId": "1ab10a21-c7dc-42be-be91-2122e5218a70"
      },
      "execution_count": 156,
      "outputs": [
        {
          "output_type": "stream",
          "name": "stdout",
          "text": [
            "20/20 [==============================] - 10s 48ms/step - loss: 9.2090 - masked_acc: 3.5706e-04 - masked_loss: 9.2090\n"
          ]
        },
        {
          "output_type": "execute_result",
          "data": {
            "text/plain": [
              "{'loss': 9.208955764770508,\n",
              " 'masked_acc': 0.00035706369089893997,\n",
              " 'masked_loss': 9.208955764770508}"
            ]
          },
          "metadata": {},
          "execution_count": 156
        }
      ]
    },
    {
      "cell_type": "code",
      "source": [
        "history = model.fit(\n",
        "    train_ds.repeat(), \n",
        "    epochs=100,\n",
        "    steps_per_epoch = 100,\n",
        "    validation_data=val_ds,\n",
        "    validation_steps = 20,\n",
        "    callbacks=[\n",
        "        tf.keras.callbacks.EarlyStopping(patience=5)])"
      ],
      "metadata": {
        "colab": {
          "base_uri": "https://localhost:8080/"
        },
        "id": "Lv0l8_gTl8ho",
        "outputId": "4428903a-143f-4970-d7df-4518c2753ed5"
      },
      "execution_count": 157,
      "outputs": [
        {
          "output_type": "stream",
          "name": "stdout",
          "text": [
            "Epoch 1/100\n",
            "100/100 [==============================] - 37s 222ms/step - loss: 6.5703 - masked_acc: 0.0530 - masked_loss: 6.5703 - val_loss: 5.8668 - val_masked_acc: 0.0918 - val_masked_loss: 5.8668\n",
            "Epoch 2/100\n",
            "100/100 [==============================] - 15s 150ms/step - loss: 5.4586 - masked_acc: 0.1468 - masked_loss: 5.4586 - val_loss: 4.9845 - val_masked_acc: 0.1842 - val_masked_loss: 4.9845\n",
            "Epoch 3/100\n",
            "100/100 [==============================] - 12s 116ms/step - loss: 4.8804 - masked_acc: 0.2009 - masked_loss: 4.8804 - val_loss: 4.6183 - val_masked_acc: 0.2179 - val_masked_loss: 4.6183\n",
            "Epoch 4/100\n",
            "100/100 [==============================] - 11s 106ms/step - loss: 4.5355 - masked_acc: 0.2306 - masked_loss: 4.5352 - val_loss: 4.4100 - val_masked_acc: 0.2329 - val_masked_loss: 4.4100\n",
            "Epoch 5/100\n",
            "100/100 [==============================] - 11s 105ms/step - loss: 4.2487 - masked_acc: 0.2556 - masked_loss: 4.2487 - val_loss: 4.2041 - val_masked_acc: 0.2544 - val_masked_loss: 4.2041\n",
            "Epoch 6/100\n",
            "100/100 [==============================] - 10s 100ms/step - loss: 4.1033 - masked_acc: 0.2743 - masked_loss: 4.1033 - val_loss: 4.1152 - val_masked_acc: 0.2671 - val_masked_loss: 4.1152\n",
            "Epoch 7/100\n",
            "100/100 [==============================] - 11s 107ms/step - loss: 3.9902 - masked_acc: 0.2868 - masked_loss: 3.9902 - val_loss: 3.9263 - val_masked_acc: 0.2908 - val_masked_loss: 3.9263\n",
            "Epoch 8/100\n",
            "100/100 [==============================] - 11s 107ms/step - loss: 3.7267 - masked_acc: 0.3148 - masked_loss: 3.7269 - val_loss: 3.7982 - val_masked_acc: 0.3039 - val_masked_loss: 3.7982\n",
            "Epoch 9/100\n",
            "100/100 [==============================] - 10s 95ms/step - loss: 3.5148 - masked_acc: 0.3386 - masked_loss: 3.5148 - val_loss: 3.7404 - val_masked_acc: 0.3146 - val_masked_loss: 3.7404\n",
            "Epoch 10/100\n",
            "100/100 [==============================] - 9s 93ms/step - loss: 3.4779 - masked_acc: 0.3437 - masked_loss: 3.4779 - val_loss: 3.7067 - val_masked_acc: 0.3174 - val_masked_loss: 3.7067\n",
            "Epoch 11/100\n",
            "100/100 [==============================] - 12s 116ms/step - loss: 3.3975 - masked_acc: 0.3538 - masked_loss: 3.3975 - val_loss: 3.5652 - val_masked_acc: 0.3417 - val_masked_loss: 3.5652\n",
            "Epoch 12/100\n",
            "100/100 [==============================] - 10s 103ms/step - loss: 3.0869 - masked_acc: 0.3887 - masked_loss: 3.0873 - val_loss: 3.5484 - val_masked_acc: 0.3391 - val_masked_loss: 3.5484\n",
            "Epoch 13/100\n",
            "100/100 [==============================] - 10s 104ms/step - loss: 2.9702 - masked_acc: 0.4023 - masked_loss: 2.9702 - val_loss: 3.4644 - val_masked_acc: 0.3520 - val_masked_loss: 3.4644\n",
            "Epoch 14/100\n",
            "100/100 [==============================] - 9s 92ms/step - loss: 2.9424 - masked_acc: 0.4067 - masked_loss: 2.9424 - val_loss: 3.4842 - val_masked_acc: 0.3504 - val_masked_loss: 3.4842\n",
            "Epoch 15/100\n",
            "100/100 [==============================] - 9s 88ms/step - loss: 2.9546 - masked_acc: 0.4067 - masked_loss: 2.9546 - val_loss: 3.3889 - val_masked_acc: 0.3566 - val_masked_loss: 3.3889\n",
            "Epoch 16/100\n",
            "100/100 [==============================] - 10s 95ms/step - loss: 2.5537 - masked_acc: 0.4572 - masked_loss: 2.5544 - val_loss: 3.4249 - val_masked_acc: 0.3662 - val_masked_loss: 3.4249\n",
            "Epoch 17/100\n",
            "100/100 [==============================] - 9s 92ms/step - loss: 2.5431 - masked_acc: 0.4579 - masked_loss: 2.5431 - val_loss: 3.3097 - val_masked_acc: 0.3758 - val_masked_loss: 3.3097\n",
            "Epoch 18/100\n",
            "100/100 [==============================] - 9s 95ms/step - loss: 2.5578 - masked_acc: 0.4554 - masked_loss: 2.5578 - val_loss: 3.3331 - val_masked_acc: 0.3788 - val_masked_loss: 3.3331\n",
            "Epoch 19/100\n",
            "100/100 [==============================] - 9s 88ms/step - loss: 2.4972 - masked_acc: 0.4666 - masked_loss: 2.4975 - val_loss: 3.2597 - val_masked_acc: 0.3847 - val_masked_loss: 3.2597\n",
            "Epoch 20/100\n",
            "100/100 [==============================] - 9s 92ms/step - loss: 2.1519 - masked_acc: 0.5195 - masked_loss: 2.1519 - val_loss: 3.3656 - val_masked_acc: 0.3773 - val_masked_loss: 3.3656\n",
            "Epoch 21/100\n",
            "100/100 [==============================] - 9s 91ms/step - loss: 2.1939 - masked_acc: 0.5079 - masked_loss: 2.1939 - val_loss: 3.2762 - val_masked_acc: 0.3917 - val_masked_loss: 3.2762\n",
            "Epoch 22/100\n",
            "100/100 [==============================] - 10s 96ms/step - loss: 2.2494 - masked_acc: 0.4991 - masked_loss: 2.2494 - val_loss: 3.3252 - val_masked_acc: 0.3821 - val_masked_loss: 3.3252\n",
            "Epoch 23/100\n",
            "100/100 [==============================] - 9s 95ms/step - loss: 2.1061 - masked_acc: 0.5258 - masked_loss: 2.1063 - val_loss: 3.2851 - val_masked_acc: 0.3947 - val_masked_loss: 3.2851\n",
            "Epoch 24/100\n",
            "100/100 [==============================] - 9s 91ms/step - loss: 1.8726 - masked_acc: 0.5668 - masked_loss: 1.8726 - val_loss: 3.3214 - val_masked_acc: 0.3898 - val_masked_loss: 3.3214\n"
          ]
        }
      ]
    },
    {
      "cell_type": "code",
      "source": [
        "plt.plot(history.history['loss'], label='loss')\n",
        "plt.plot(history.history['val_loss'], label='val_loss')\n",
        "plt.ylim([0, max(plt.ylim())])\n",
        "plt.xlabel('Epoch #')\n",
        "plt.ylabel('CE/token')\n",
        "plt.legend()"
      ],
      "metadata": {
        "colab": {
          "base_uri": "https://localhost:8080/",
          "height": 296
        },
        "id": "-xLZ1n5wxdMF",
        "outputId": "dff1afa3-64f6-4b6a-9ee9-22cd0d68b342"
      },
      "execution_count": 158,
      "outputs": [
        {
          "output_type": "execute_result",
          "data": {
            "text/plain": [
              "<matplotlib.legend.Legend at 0x7f29e2a74c70>"
            ]
          },
          "metadata": {},
          "execution_count": 158
        },
        {
          "output_type": "display_data",
          "data": {
            "text/plain": [
              "<Figure size 432x288 with 1 Axes>"
            ],
            "image/png": "[encoded data removed]"
          },
          "metadata": {
            "needs_background": "light"
          }
        }
      ]
    },
    {
      "cell_type": "code",
      "source": [
        "plt.plot(history.history['masked_acc'], label='accuracy')\n",
        "plt.plot(history.history['val_masked_acc'], label='val_accuracy')\n",
        "plt.ylim([0, max(plt.ylim())])\n",
        "plt.xlabel('Epoch #')\n",
        "plt.ylabel('CE/token')\n",
        "plt.legend()"
      ],
      "metadata": {
        "colab": {
          "base_uri": "https://localhost:8080/",
          "height": 296
        },
        "id": "dYPUXA_K4dLU",
        "outputId": "41e75073-763f-4dfc-f8b2-cd784cce19bb"
      },
      "execution_count": 159,
      "outputs": [
        {
          "output_type": "execute_result",
          "data": {
            "text/plain": [
              "<matplotlib.legend.Legend at 0x7f290aba51c0>"
            ]
          },
          "metadata": {},
          "execution_count": 159
        },
        {
          "output_type": "display_data",
          "data": {
            "text/plain": [
              "<Figure size 432x288 with 1 Axes>"
            ],
            "image/png": "[encoded data removed]"
          },
          "metadata": {
            "needs_background": "light"
          }
        }
      ]
    },
    {
      "cell_type": "code",
      "source": [
        "model.save('/content/drive/MyDrive/Colab Notebooks/NLP_Project/attention_model')"
      ],
      "metadata": {
        "colab": {
          "base_uri": "https://localhost:8080/"
        },
        "id": "vmTbw9G5F4qn",
        "outputId": "2b632636-af7d-4ef6-9414-55afa633dc9d"
      },
      "execution_count": null,
      "outputs": [
        {
          "output_type": "stream",
          "name": "stderr",
          "text": [
            "WARNING:absl:Found untraced functions such as embedding_8_layer_call_fn, embedding_8_layer_call_and_return_conditional_losses, embedding_9_layer_call_fn, embedding_9_layer_call_and_return_conditional_losses, cross_attention_5_layer_call_fn while saving (showing 5 of 32). These functions will not be directly callable after loading.\n"
          ]
        }
      ]
    },
    {
      "cell_type": "code",
      "source": [
        "#@title\n",
        "@Translator.add_method\n",
        "def translate(self,\n",
        "              texts, *,\n",
        "              max_length=50,\n",
        "              temperature=0.0):\n",
        "    # Process the input texts\n",
        "    context = self.encoder.convert_input(texts)\n",
        "    batch_size = tf.shape(texts)[0]\n",
        "\n",
        "    # Setup the loop inputs\n",
        "    tokens = []\n",
        "    attention_weights = []\n",
        "    next_token, done, state = self.decoder.get_initial_state(context)\n",
        "\n",
        "    for _ in range(max_length):\n",
        "        # Generate the next token\n",
        "        next_token, done, state = self.decoder.get_next_token(\n",
        "            context, next_token, done,  state, temperature)\n",
        "        \n",
        "        # Collect the generated tokens\n",
        "        tokens.append(next_token)\n",
        "        attention_weights.append(self.decoder.last_attention_weights)\n",
        "\n",
        "        if tf.executing_eagerly() and tf.reduce_all(done):\n",
        "            break\n",
        "\n",
        "    # Stack the lists of tokens and attention weights.\n",
        "    tokens = tf.concat(tokens, axis=-1)   # t*[(batch 1)] -> (batch, t)\n",
        "    self.last_attention_weights = tf.concat(attention_weights, axis=1)  # t*[(batch 1 s)] -> (batch, t s)\n",
        "\n",
        "    result = self.decoder.tokens_to_text(tokens)\n",
        "    return result"
      ],
      "metadata": {
        "id": "VZWcRAPDnhRs"
      },
      "execution_count": 160,
      "outputs": []
    },
    {
      "cell_type": "markdown",
      "source": [
        "##Testing"
      ],
      "metadata": {
        "id": "Nk1Af2GIIbOA"
      }
    },
    {
      "cell_type": "code",
      "source": [
        "def test_data():\n",
        "  test_source = []\n",
        "  test_target = []\n",
        "  with open('/content/drive/MyDrive/Colab Notebooks/NLP_Project/Bible/test.ur', \"r\", encoding=\"utf-8\") as f:\n",
        "      lines_urdu = f.read().split(\"\\n\")\n",
        "  with open('/content/drive/MyDrive/Colab Notebooks/NLP_Project/Bible/test.en', \"r\", encoding=\"utf-8\") as f:\n",
        "      lines_eng = f.read().split(\"\\n\")\n",
        "  for each in lines_eng:\n",
        "    test_source.append(each)\n",
        "  for each in lines_urdu:\n",
        "    test_target.append(each)\n",
        "  return test_source,test_target"
      ],
      "metadata": {
        "id": "ixInXc7opQ8e"
      },
      "execution_count": 49,
      "outputs": []
    },
    {
      "cell_type": "code",
      "source": [
        "test_source,test_target=test_data()"
      ],
      "metadata": {
        "id": "2uIKeGYIrDBz"
      },
      "execution_count": 50,
      "outputs": []
    },
    {
      "cell_type": "code",
      "source": [
        "print(test_source[45])\n",
        "print(test_target[45])\n",
        "print(len(test_source))"
      ],
      "metadata": {
        "colab": {
          "base_uri": "https://localhost:8080/"
        },
        "id": "1bqTSsk2rI2_",
        "outputId": "d22b6d19-4a46-44d1-a6c6-fc9b53c5f41d"
      },
      "execution_count": 51,
      "outputs": [
        {
          "output_type": "stream",
          "name": "stdout",
          "text": [
            "And the nations were angry , and thy wrath is come , and the time of the dead , that they should be judged , and that thou shouldest give reward unto thy servants the prophets , and to the saints , and them that fear thy name , small and great ; and shouldest destroy them which destroy the earth .\n",
            "اور قوموں کو غصہ آیا اور تیرا غضب نازل ہؤا اور وہ وقت آ پہنچا ہے کہ مردوں کا انصاف کیا جائے اور تیرے بندوں نبیوں اور مقدسوں اور ان چھوٹے بڑوں کو جو تیرے نام سے ڈرتے ہیں اجر دیا جائے اور زمین کے تباہ کرنے والوں کو تباہ کیا جائے ۔\n",
            "258\n"
          ]
        }
      ]
    },
    {
      "cell_type": "code",
      "source": [
        "result = [] \n",
        "total = 0\n",
        "for i in range(len(test_source)):\n",
        "    result.append(model.translate([test_source[i]])[0].numpy().decode())\n",
        "    total += nltk.translate.bleu_score.sentence_bleu([test_target[i]], result[-1], weights=[1])\n",
        "print(total/len(test_source))"
      ],
      "metadata": {
        "colab": {
          "base_uri": "https://localhost:8080/"
        },
        "id": "u8XR6TghzPIR",
        "outputId": "4f5e53b1-dccf-4d31-b9b0-ba0dc5f40d89"
      },
      "execution_count": 52,
      "outputs": [
        {
          "output_type": "stream",
          "name": "stdout",
          "text": [
            "0.6995529724014304\n"
          ]
        }
      ]
    },
    {
      "cell_type": "markdown",
      "source": [
        "##BLEU Score"
      ],
      "metadata": {
        "id": "qiNd_5ZHIgnF"
      }
    },
    {
      "cell_type": "code",
      "source": [
        "bleu_score=total/len(test_source)\n",
        "print(\"Bleu Score: \",bleu_score)"
      ],
      "metadata": {
        "colab": {
          "base_uri": "https://localhost:8080/"
        },
        "id": "SZD2Vd8oFfuu",
        "outputId": "7b90149d-6ab5-4331-92e1-aa3d93a2f2b6"
      },
      "execution_count": 53,
      "outputs": [
        {
          "output_type": "stream",
          "name": "stdout",
          "text": [
            "Bleu Score:  0.6995529724014304\n"
          ]
        }
      ]
    },
    {
      "cell_type": "code",
      "source": [
        "import pickle\n",
        "with open('/content/drive/MyDrive/Colab Notebooks/NLP_Project/Bleu_Score_With_Attention', 'wb') as file:\n",
        "  pickle.dump(bleu_score, file)"
      ],
      "metadata": {
        "id": "oE0BoINQFVfe"
      },
      "execution_count": null,
      "outputs": []
    },
    {
      "cell_type": "code",
      "source": [
        "print(test_source[200])\n",
        "print(test_target[200])\n"
      ],
      "metadata": {
        "colab": {
          "base_uri": "https://localhost:8080/"
        },
        "id": "apxDYUvo-z_n",
        "outputId": "5678e377-b484-4e32-c50b-9464a0afbcf8"
      },
      "execution_count": 55,
      "outputs": [
        {
          "output_type": "stream",
          "name": "stdout",
          "text": [
            "And when the thousand years are expired , Satan shall be loosed out of his prison .\n",
            "اور جب ہزار برس پورے ہو چکیں گے تو شیطان قید سے چھوڑ دیا جائے گا ۔\n"
          ]
        }
      ]
    },
    {
      "cell_type": "code",
      "source": [
        "result = model.translate([\"and whosoever liveth and believeth in me shall never die . believest thou this ?\"]) # Are you still home\n",
        "result[0].numpy().decode()"
      ],
      "metadata": {
        "colab": {
          "base_uri": "https://localhost:8080/",
          "height": 35
        },
        "id": "Z-sb33bkovdt",
        "outputId": "ce521137-2cd2-4856-ecc8-6e5c18cdc273"
      },
      "execution_count": 164,
      "outputs": [
        {
          "output_type": "execute_result",
          "data": {
            "text/plain": [
              "'اور جو کوئی مجھ پر ایمان لائے اور مجھ پر ایمان لاتا ہے وہ ابد تک کبھی کبھی نہ مریگا ۔ کیا تو یہ ہے ؟ ۔ '"
            ],
            "application/vnd.google.colaboratory.intrinsic+json": {
              "type": "string"
            }
          },
          "metadata": {},
          "execution_count": 164
        }
      ]
    },
    {
      "cell_type": "code",
      "source": [],
      "metadata": {
        "id": "5kCzruBQIKCj"
      },
      "execution_count": null,
      "outputs": []
    }
  ],
  "metadata": {
    "colab": {
      "provenance": [],
      "collapsed_sections": [
        "uciYGwqLm5BF",
        "nxLtDAl6m-FM",
        "8wR-28EPnDrW",
        "A9dwHySSnm9n",
        "ABDv20f8qN9W",
        "QXYoLePCqZi2",
        "8dnI5DBcqiBu",
        "Wi5axMs8rH-i",
        "3ArvKwf7rN_m",
        "twGFWl0vrYr1",
        "FZ8AgHwyrlR-",
        "hS9cE8KXrp2L",
        "tmJ6JXmnrwEO",
        "DDWA1L9b3Vur",
        "dcuLlOOrcgoc"
      ],
      "toc_visible": true
    },
    "gpuClass": "standard",
    "kernelspec": {
      "display_name": "Python 3",
      "name": "python3"
    },
    "language_info": {
      "name": "python"
    },
    "accelerator": "GPU"
  },
  "nbformat": 4,
  "nbformat_minor": 0
}